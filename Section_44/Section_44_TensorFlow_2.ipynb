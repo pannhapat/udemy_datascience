{
  "nbformat": 4,
  "nbformat_minor": 0,
  "metadata": {
    "colab": {
      "name": "Section_44_TensorFlow_2.ipynb",
      "provenance": [],
      "private_outputs": true,
      "authorship_tag": "ABX9TyOY/IvE+10K0miDU4KB7HHR",
      "include_colab_link": true
    },
    "kernelspec": {
      "name": "python3",
      "display_name": "Python 3"
    }
  },
  "cells": [
    {
      "cell_type": "markdown",
      "metadata": {
        "id": "view-in-github",
        "colab_type": "text"
      },
      "source": [
        "<a href=\"https://colab.research.google.com/github/pannhapat/udemy_datascience/blob/master/Section_44/Section_44_TensorFlow_2.ipynb\" target=\"_parent\"><img src=\"https://colab.research.google.com/assets/colab-badge.svg\" alt=\"Open In Colab\"/></a>"
      ]
    },
    {
      "cell_type": "markdown",
      "metadata": {
        "id": "Dv1FIxRpZRkG",
        "colab_type": "text"
      },
      "source": [
        "\n",
        "```\n",
        "# This is formatted as code\n",
        "scalar = [ ] rank:0\n",
        "\n",
        "vectore = [ ]\n",
        "          [ ]\n",
        "          [ ] rank:1\n",
        "          \n",
        "matrix = [  ][  ][  ][  ]\n",
        "         [  ][  ][  ][  ]\n",
        "         [  ][  ][  ][  ]\n",
        "         [  ][  ][  ][  ] rank:2\n",
        "tensor = \n",
        "\n",
        "    [  ][  ][  ][  ]\n",
        "        [  ][  ][  ][  ]\n",
        "            [  ][  ][  ][  ]\n",
        "                [  ][  ][  ][  ]\n",
        "\n",
        "```\n",
        "Machine Learning\n",
        "        TensorFlow\n",
        "      CPU     TPU      GPU\n",
        "scikitlearn\n"
      ]
    },
    {
      "cell_type": "code",
      "metadata": {
        "id": "EeH-h9g-Y-Q7",
        "colab_type": "code",
        "colab": {}
      },
      "source": [
        ""
      ],
      "execution_count": 0,
      "outputs": []
    }
  ]
}