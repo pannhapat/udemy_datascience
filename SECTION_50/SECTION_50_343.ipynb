{
  "nbformat": 4,
  "nbformat_minor": 0,
  "metadata": {
    "colab": {
      "name": "SECTION_50_343.ipynb",
      "provenance": [],
      "private_outputs": true,
      "authorship_tag": "ABX9TyNTbwOwMK82J6sqT7yQTXby",
      "include_colab_link": true
    },
    "kernelspec": {
      "name": "python3",
      "display_name": "Python 3"
    }
  },
  "cells": [
    {
      "cell_type": "markdown",
      "metadata": {
        "id": "view-in-github",
        "colab_type": "text"
      },
      "source": [
        "<a href=\"https://colab.research.google.com/github/pannhapat/udemy_datascience/blob/master/SECTION_50/SECTION_50_343.ipynb\" target=\"_parent\"><img src=\"https://colab.research.google.com/assets/colab-badge.svg\" alt=\"Open In Colab\"/></a>"
      ]
    },
    {
      "cell_type": "code",
      "metadata": {
        "id": "Ar8IuqkEUVy6",
        "colab_type": "code",
        "colab": {}
      },
      "source": [
        "import numpy as np\n",
        "import tensorflow as tf\n",
        "import tensorflow_datasets as tfds\n"
      ],
      "execution_count": null,
      "outputs": []
    },
    {
      "cell_type": "markdown",
      "metadata": {
        "id": "yY_syQJoUzFM",
        "colab_type": "text"
      },
      "source": [
        "tfds.load(name,as_supervised) loads a dataset from TensorFlow datasets -> as_supervised = True\n",
        ",loads the data in a 2-tuple structure [input, target]"
      ]
    },
    {
      "cell_type": "code",
      "metadata": {
        "id": "VFXuPltrUkwT",
        "colab_type": "code",
        "colab": {}
      },
      "source": [
        "mnist_dataset = tfds.load(name='mnist', as_supervised=True)"
      ],
      "execution_count": null,
      "outputs": []
    },
    {
      "cell_type": "markdown",
      "metadata": {
        "id": "LmxbPQyeUyJZ",
        "colab_type": "text"
      },
      "source": [
        "The first time it will take a bit longer (since you're actually downloading the dataset)"
      ]
    }
  ]
}