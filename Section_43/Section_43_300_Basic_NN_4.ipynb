{
  "nbformat": 4,
  "nbformat_minor": 0,
  "metadata": {
    "anaconda-cloud": {},
    "kernelspec": {
      "display_name": "Python 3",
      "language": "python",
      "name": "python3"
    },
    "language_info": {
      "codemirror_mode": {
        "name": "ipython",
        "version": 3
      },
      "file_extension": ".py",
      "mimetype": "text/x-python",
      "name": "python",
      "nbconvert_exporter": "python",
      "pygments_lexer": "ipython3",
      "version": "3.6.2"
    },
    "colab": {
      "name": "Section_43_300_Basic_NN_4.ipynb",
      "provenance": [],
      "include_colab_link": true
    }
  },
  "cells": [
    {
      "cell_type": "markdown",
      "metadata": {
        "id": "view-in-github",
        "colab_type": "text"
      },
      "source": [
        "<a href=\"https://colab.research.google.com/github/pannhapat/udemy_datascience/blob/master/Section_43/Section_43_300_Basic_NN_4.ipynb\" target=\"_parent\"><img src=\"https://colab.research.google.com/assets/colab-badge.svg\" alt=\"Open In Colab\"/></a>"
      ]
    },
    {
      "cell_type": "markdown",
      "metadata": {
        "id": "L4LkDgv1tfut",
        "colab_type": "text"
      },
      "source": [
        "# Simple Linear Regression. Minimal example"
      ]
    },
    {
      "cell_type": "markdown",
      "metadata": {
        "id": "SRU05ppYtfuv",
        "colab_type": "text"
      },
      "source": [
        "### Import the relevant libraries"
      ]
    },
    {
      "cell_type": "code",
      "metadata": {
        "id": "_ca6kBxhtfuv",
        "colab_type": "code",
        "colab": {}
      },
      "source": [
        "# We must always import the relevant libraries for our problem at hand. NumPy is a must for this example.\n",
        "import numpy as np\n",
        "\n",
        "# matplotlib and mpl_toolkits are not necessary. We employ them for the sole purpose of visualizing the results.  \n",
        "import matplotlib.pyplot as plt\n",
        "from mpl_toolkits.mplot3d import Axes3D"
      ],
      "execution_count": 0,
      "outputs": []
    },
    {
      "cell_type": "markdown",
      "metadata": {
        "id": "qyaYujXitfuz",
        "colab_type": "text"
      },
      "source": [
        "### Generate random input data to train on"
      ]
    },
    {
      "cell_type": "code",
      "metadata": {
        "scrolled": false,
        "id": "TL4NwwoItfu0",
        "colab_type": "code",
        "colab": {
          "base_uri": "https://localhost:8080/",
          "height": 34
        },
        "outputId": "254f2252-563e-4b2b-9a98-8ffbce18543d"
      },
      "source": [
        "# First, we should declare a variable containing the size of the training set we want to generate.\n",
        "observations = 1000\n",
        "\n",
        "# We will work with two variables as inputs. You can think about them as x1 and x2 in our previous examples.\n",
        "# We have picked x and z, since it is easier to differentiate them.\n",
        "# We generate them randomly, drawing from an uniform distribution. There are 3 arguments of this method (low, high, size).\n",
        "# The size of xs and zs is observations by 1. In this case: 1000 x 1.\n",
        "xs = np.random.uniform(low=-10, high=10, size=(observations,1))\n",
        "zs = np.random.uniform(-10, 10, (observations,1))\n",
        "\n",
        "# Combine the two dimensions of the input into one input matrix. \n",
        "# This is the X matrix from the linear model y = x*w + b.\n",
        "# column_stack is a Numpy method, which combines two vectors into a matrix. Alternatives are stack, dstack, hstack, etc.\n",
        "inputs = np.column_stack((xs,zs))\n",
        "\n",
        "# Check if the dimensions of the inputs are the same as the ones we defined in the linear model lectures. \n",
        "# They should be n x k, where n is the number of observations, and k is the number of variables, so 1000 x 2.\n",
        "print (inputs.shape)"
      ],
      "execution_count": 2,
      "outputs": [
        {
          "output_type": "stream",
          "text": [
            "(1000, 2)\n"
          ],
          "name": "stdout"
        }
      ]
    },
    {
      "cell_type": "markdown",
      "metadata": {
        "id": "2dN9ilfltfu2",
        "colab_type": "text"
      },
      "source": [
        "### Generate the targets we will aim at"
      ]
    },
    {
      "cell_type": "code",
      "metadata": {
        "id": "INzfGI65tfu3",
        "colab_type": "code",
        "colab": {
          "base_uri": "https://localhost:8080/",
          "height": 34
        },
        "outputId": "7059e800-a295-482c-8157-548d5ea3b730"
      },
      "source": [
        "# We want to \"make up\" a function, use the ML methodology, and see if the algorithm has learned it.\n",
        "# We add a small random noise to the function i.e. f(x,z) = 2x - 3z + 5 + <small noise>\n",
        "noise = np.random.uniform(-1, 1, (observations,1))\n",
        "\n",
        "# Produce the targets according to the f(x,z) = 2x - 3z + 5 + noise definition.\n",
        "# In this way, we are basically saying: the weights should be 2 and -3, while the bias is 5.\n",
        "targets = 2*xs - 3*zs + 5 + noise\n",
        "\n",
        "# Check the shape of the targets just in case. It should be n x m, where m is the number of output variables, so 1000 x 1.\n",
        "print (targets.shape)"
      ],
      "execution_count": 3,
      "outputs": [
        {
          "output_type": "stream",
          "text": [
            "(1000, 1)\n"
          ],
          "name": "stdout"
        }
      ]
    },
    {
      "cell_type": "markdown",
      "metadata": {
        "id": "xnzykfgEtfu5",
        "colab_type": "text"
      },
      "source": [
        "### Plot the training data\n",
        "The point is to see that there is a strong trend that our model should learn to reproduce."
      ]
    },
    {
      "cell_type": "code",
      "metadata": {
        "id": "Cm2Pay9gtfu6",
        "colab_type": "code",
        "colab": {
          "base_uri": "https://localhost:8080/",
          "height": 248
        },
        "outputId": "3fd39a33-7d1b-4315-df9d-391dd7fa915e"
      },
      "source": [
        "# In order to use the 3D plot, the objects should have a certain shape, so we reshape the targets.\n",
        "# The proper method to use is reshape and takes as arguments the dimensions in which we want to fit the object.\n",
        "targets = targets.reshape(observations,)\n",
        "\n",
        "# Plotting according to the conventional matplotlib.pyplot syntax\n",
        "\n",
        "# Declare the figure\n",
        "fig = plt.figure()\n",
        "\n",
        "# A method allowing us to create the 3D plot\n",
        "ax = fig.add_subplot(111, projection='3d')\n",
        "\n",
        "# Choose the axes.\n",
        "ax.plot(xs, zs, targets)\n",
        "\n",
        "# Set labels\n",
        "ax.set_xlabel('xs')\n",
        "ax.set_ylabel('zs')\n",
        "ax.set_zlabel('Targets')\n",
        "\n",
        "# You can fiddle with the azim parameter to plot the data from different angles. Just change the value of azim=100\n",
        "# to azim = 0 ; azim = 200, or whatever. Check and see what happens.\n",
        "ax.view_init(azim=100)\n",
        "\n",
        "# So far we were just describing the plot. This method actually shows the plot. \n",
        "plt.show()\n",
        "\n",
        "# We reshape the targets back to the shape that they were in before plotting.\n",
        "# This reshaping is a side-effect of the 3D plot. Sorry for that.\n",
        "targets = targets.reshape(observations,1)"
      ],
      "execution_count": 4,
      "outputs": [
        {
          "output_type": "display_data",
          "data": {
            "image/png": "[encoded data removed]",
            "text/plain": [
              "<Figure size 432x288 with 1 Axes>"
            ]
          },
          "metadata": {
            "tags": [],
            "needs_background": "light"
          }
        }
      ]
    },
    {
      "cell_type": "markdown",
      "metadata": {
        "id": "wmcL4ZSZtfu8",
        "colab_type": "text"
      },
      "source": [
        "### Initialize variables"
      ]
    },
    {
      "cell_type": "code",
      "metadata": {
        "id": "VmtqMLuGtfu9",
        "colab_type": "code",
        "colab": {
          "base_uri": "https://localhost:8080/",
          "height": 68
        },
        "outputId": "fb2edd76-1273-4639-f40b-6db2d6391966"
      },
      "source": [
        "# We will initialize the weights and biases randomly in some small initial range.\n",
        "# init_range is the variable that will measure that.\n",
        "# You can play around with the initial range, but we don't really encourage you to do so.\n",
        "# High initial ranges may prevent the machine learning algorithm from learning.\n",
        "init_range = 0.1\n",
        "\n",
        "# Weights are of size k x m, where k is the number of input variables and m is the number of output variables\n",
        "# In our case, the weights matrix is 2x1 since there are 2 inputs (x and z) and one output (y)\n",
        "weights = np.random.uniform(low=-init_range, high=init_range, size=(2, 1))\n",
        "\n",
        "# Biases are of size 1 since there is only 1 output. The bias is a scalar.\n",
        "biases = np.random.uniform(low=-init_range, high=init_range, size=1)\n",
        "\n",
        "#Print the weights to get a sense of how they were initialized.\n",
        "print (weights)\n",
        "print (biases)"
      ],
      "execution_count": 5,
      "outputs": [
        {
          "output_type": "stream",
          "text": [
            "[[-0.00847209]\n",
            " [ 0.0317707 ]]\n",
            "[0.06350847]\n"
          ],
          "name": "stdout"
        }
      ]
    },
    {
      "cell_type": "markdown",
      "metadata": {
        "id": "AJajzPsbtfu_",
        "colab_type": "text"
      },
      "source": [
        "### Set a learning rate"
      ]
    },
    {
      "cell_type": "code",
      "metadata": {
        "id": "Fa1WLxtltfu_",
        "colab_type": "code",
        "colab": {}
      },
      "source": [
        "# Set some small learning rate (denoted eta in the lecture). \n",
        "# 0.02 is going to work quite well for our example. Once again, you can play around with it.\n",
        "# It is HIGHLY recommended that you play around with it.\n",
        "learning_rate = 0.02"
      ],
      "execution_count": 0,
      "outputs": []
    },
    {
      "cell_type": "markdown",
      "metadata": {
        "id": "t38xQWEitfvC",
        "colab_type": "text"
      },
      "source": [
        "### Train the model"
      ]
    },
    {
      "cell_type": "code",
      "metadata": {
        "scrolled": true,
        "id": "cCkqgC0vtfvD",
        "colab_type": "code",
        "colab": {
          "base_uri": "https://localhost:8080/",
          "height": 1000
        },
        "outputId": "a71c0812-ee1b-4c4a-be00-0fb3813cf5ef"
      },
      "source": [
        "# We iterate over our training dataset 100 times. That works well with a learning rate of 0.02.\n",
        "# The proper number of iterations is something we will talk about later on, but generally\n",
        "# a lower learning rate would need more iterations, while a higher learning rate would need less iterations\n",
        "# keep in mind that a high learning rate may cause the loss to diverge to infinity, instead of converge to 0.\n",
        "for i in range (100):\n",
        "    \n",
        "    # This is the linear model: y = xw + b equation\n",
        "    outputs = np.dot(inputs,weights) + biases\n",
        "    # The deltas are the differences between the outputs and the targets\n",
        "    # Note that deltas here is a vector 1000 x 1\n",
        "    deltas = outputs - targets\n",
        "        \n",
        "    # We are considering the L2-norm loss, but divided by 2, so it is consistent with the lectures.\n",
        "    # Moreover, we further divide it by the number of observations.\n",
        "    # This is simple rescaling by a constant. We explained that this doesn't change the optimization logic,\n",
        "    # as any function holding the basic property of being lower for better results, and higher for worse results\n",
        "    # can be a loss function.\n",
        "    loss = np.sum(deltas ** 2) / 2 / observations\n",
        "    \n",
        "    # We print the loss function value at each step so we can observe whether it is decreasing as desired.\n",
        "    print (loss)\n",
        "    \n",
        "    # Another small trick is to scale the deltas the same way as the loss function\n",
        "    # In this way our learning rate is independent of the number of samples (observations).\n",
        "    # Again, this doesn't change anything in principle, it simply makes it easier to pick a single learning rate\n",
        "    # that can remain the same if we change the number of training samples (observations).\n",
        "    # You can try solving the problem without rescaling to see how that works for you.\n",
        "    deltas_scaled = deltas / observations\n",
        "    \n",
        "    # Finally, we must apply the gradient descent update rules from the relevant lecture.\n",
        "    # The weights are 2x1, learning rate is 1x1 (scalar), inputs are 1000x2, and deltas_scaled are 1000x1\n",
        "    # We must transpose the inputs so that we get an allowed operation.\n",
        "    weights = weights - learning_rate * np.dot(inputs.T,deltas_scaled)\n",
        "    biases = biases - learning_rate * np.sum(deltas_scaled)\n",
        "    \n",
        "    # The weights are updated in a linear algebraic way (a matrix minus another matrix)\n",
        "    # The biases, however, are just a single number here, so we must transform the deltas into a scalar.\n",
        "    # The two lines are both consistent with the gradient descent methodology. "
      ],
      "execution_count": 7,
      "outputs": [
        {
          "output_type": "stream",
          "text": [
            "239.39867060929632\n",
            "33.39292304826458\n",
            "13.474843078879767\n",
            "11.163090954360984\n",
            "10.55294572284622\n",
            "10.124388517625448\n",
            "9.728706155912526\n",
            "9.35036971719339\n",
            "8.987193941114096\n",
            "8.638410716858136\n",
            "8.303430217734931\n",
            "7.981703667221838\n",
            "7.672706297237121\n",
            "7.375934421905792\n",
            "7.090904330811345\n",
            "6.817151458772322\n",
            "6.554229622271503\n",
            "6.301710291229523\n",
            "6.05918189039388\n",
            "5.826249128496368\n",
            "5.602532353973106\n",
            "5.387666936178761\n",
            "5.181302671083665\n",
            "4.983103210484564\n",
            "4.792745513798692\n",
            "4.609919321547622\n",
            "4.434326649672715\n",
            "4.265681303858002\n",
            "4.1037084130688815\n",
            "3.9481439815463655\n",
            "3.7987344585266674\n",
            "3.65523632498486\n",
            "3.5174156967290036\n",
            "3.3850479431978764\n",
            "3.257917321340966\n",
            "3.1358166239840046\n",
            "3.0185468421069355\n",
            "2.9059168404838402\n",
            "2.7977430461561896\n",
            "2.693849149231649\n",
            "2.5940658155207807\n",
            "2.4982304105432727\n",
            "2.4061867344538794\n",
            "2.3177847674560117\n",
            "2.2328804252880343\n",
            "2.151335324383769\n",
            "2.0730165563243994\n",
            "1.9977964712142204\n",
            "1.9255524696270936\n",
            "1.8561668027845786\n",
            "1.7895263806399853\n",
            "1.7255225875556157\n",
            "1.6640511052727074\n",
            "1.6050117428855961\n",
            "1.5483082735429357\n",
            "1.49384827760985\n",
            "1.44154299203537\n",
            "1.391307165679646\n",
            "1.3430589203651462\n",
            "1.2967196174253652\n",
            "1.2522137295335314\n",
            "1.2094687176024164\n",
            "1.1684149125546046\n",
            "1.12898540177052\n",
            "1.09111592002914\n",
            "1.0547447447636427\n",
            "1.0198125954612685\n",
            "0.9862625370434148\n",
            "0.954039887068514\n",
            "0.9230921266064203\n",
            "0.8933688146390578\n",
            "0.8648215058478015\n",
            "0.8374036716536136\n",
            "0.8110706243812124\n",
            "0.7857794444236965\n",
            "0.7614889102889006\n",
            "0.7381594314134658\n",
            "0.7157529836351239\n",
            "0.6942330472180173\n",
            "0.6735645473300552\n",
            "0.6537137968752755\n",
            "0.6346484415880524\n",
            "0.6163374072996479\n",
            "0.5987508492911613\n",
            "0.5818601036503371\n",
            "0.5656376405529343\n",
            "0.5500570193925203\n",
            "0.5350928456855556\n",
            "0.5207207296815325\n",
            "0.506917246610699\n",
            "0.4936598985045868\n",
            "0.48092707752710134\n",
            "0.46869803075643324\n",
            "0.45695282636035917\n",
            "0.4456723211098239\n",
            "0.4348381291778479\n",
            "0.4244325921729053\n",
            "0.4144387503579315\n",
            "0.40484031500805345\n",
            "0.39562164186198073\n"
          ],
          "name": "stdout"
        }
      ]
    },
    {
      "cell_type": "markdown",
      "metadata": {
        "id": "WLdGBbYCtfvF",
        "colab_type": "text"
      },
      "source": [
        "### Print weights and biases and see if we have worked correctly."
      ]
    },
    {
      "cell_type": "code",
      "metadata": {
        "id": "-OwtYnTQtfvF",
        "colab_type": "code",
        "colab": {
          "base_uri": "https://localhost:8080/",
          "height": 51
        },
        "outputId": "6eb4fa6d-b89d-449a-c3d9-2dd753d0ecfa"
      },
      "source": [
        "# We print the weights and the biases, so we can see if they have converged to what we wanted.\n",
        "# When declared the targets, following the f(x,z), we knew the weights should be 2 and -3, while the bias: 5.\n",
        "print (weights, biases)\n",
        "\n",
        "# Note that they may be convergING. So more iterations are needed.\n"
      ],
      "execution_count": 8,
      "outputs": [
        {
          "output_type": "stream",
          "text": [
            "[[ 2.00106329]\n",
            " [-2.9980677 ]] [4.33337706]\n"
          ],
          "name": "stdout"
        }
      ]
    },
    {
      "cell_type": "markdown",
      "metadata": {
        "id": "LZgMyQJ1tfvI",
        "colab_type": "text"
      },
      "source": [
        "### Plot last outputs vs targets\n",
        "Since they are the last ones at the end of the training, they represent the final model accuracy. <br/>\n",
        "The closer this plot is to a 45 degree line, the closer target and output values are.\n",
        "\n",
        "From next time we will start with the more complicated topics. If you have any doubts:\n",
        "1. Revisit the lessons\n",
        "2. Use the course notes\n",
        "3. Complete the exercises\n",
        "4. Take advantage of the Jupyter notebooks\n",
        "5. Post in the Q&A section"
      ]
    },
    {
      "cell_type": "code",
      "metadata": {
        "id": "K2i2-5PgtfvI",
        "colab_type": "code",
        "colab": {
          "base_uri": "https://localhost:8080/",
          "height": 279
        },
        "outputId": "0cea7ded-ebbb-4177-df44-a4a4ee485e70"
      },
      "source": [
        "# We print the outputs and the targets in order to see if they have a linear relationship.\n",
        "# Again, that's not needed. Moreover, in later lectures, that would not even be possible.\n",
        "plt.plot(outputs,targets)\n",
        "plt.xlabel('outputs')\n",
        "plt.ylabel('targets')\n",
        "plt.show()"
      ],
      "execution_count": 9,
      "outputs": [
        {
          "output_type": "display_data",
          "data": {
            "image/png": "[encoded data removed]",
            "text/plain": [
              "<Figure size 432x288 with 1 Axes>"
            ]
          },
          "metadata": {
            "tags": [],
            "needs_background": "light"
          }
        }
      ]
    }
  ]
}