{
  "nbformat": 4,
  "nbformat_minor": 0,
  "metadata": {
    "anaconda-cloud": {},
    "kernelspec": {
      "display_name": "Python 3",
      "language": "python",
      "name": "python3"
    },
    "language_info": {
      "codemirror_mode": {
        "name": "ipython",
        "version": 3
      },
      "file_extension": ".py",
      "mimetype": "text/x-python",
      "name": "python",
      "nbconvert_exporter": "python",
      "pygments_lexer": "ipython3",
      "version": "3.6.2"
    },
    "colab": {
      "name": "Section_43_Minimal_example_All_Exercises.ipynb",
      "provenance": [],
      "include_colab_link": true
    }
  },
  "cells": [
    {
      "cell_type": "markdown",
      "metadata": {
        "id": "view-in-github",
        "colab_type": "text"
      },
      "source": [
        "<a href=\"https://colab.research.google.com/github/pannhapat/udemy_datascience/blob/master/Section_43/Section_43_Minimal_example_All_Exercises.ipynb\" target=\"_parent\"><img src=\"https://colab.research.google.com/assets/colab-badge.svg\" alt=\"Open In Colab\"/></a>"
      ]
    },
    {
      "cell_type": "markdown",
      "metadata": {
        "id": "bErEqjppvYXE",
        "colab_type": "text"
      },
      "source": [
        "# Simple Linear Regression. Minimal example"
      ]
    },
    {
      "cell_type": "markdown",
      "metadata": {
        "id": "fpHR2vXzvYXF",
        "colab_type": "text"
      },
      "source": [
        "# Using the same code as before, please solve the following exercises\n",
        "    1. Change the number of observations to 100,000 and see what happens.\n",
        "    2. Change the number of observations to 1,000,000 and see what happens.\n",
        "    3. Play around with the learning rate. Values like 0.0001, 0.001, 0.1, 1 are all interesting to observe. \n",
        "    4. Change the loss function. L2-norm loss (without dividing by 2) is a good way to start. \n",
        "    5. Тry with the L1-norm loss, given by the sum of the ABSOLUTE value of yj - tj. The L1-norm loss is given by:\n",
        "## $$ \\Sigma_i = |y_i-t_i| $$\n",
        "    6. Create a function f(x,z) = 13*xs + 7*zs - 12. Does the algorithm work in the same way?\n",
        "    \n",
        "    \n",
        "Useful tip: When you change something, don't forget to RERUN all cells. This can be done easily by clicking:\n",
        "Kernel -> Restart & Run All\n",
        "If you don't do that, your algorithm will keep the OLD values of all parameters.\n",
        "\n",
        "You can either use this file for all the exercises, or check the solutions of EACH ONE of them in the separate files we have provided. All other files are solutions of each problem. If you feel confident enough, you can simply change values in this file. Please note that it will be nice, if you return the file to starting position after you have solved a problem, so you can use the lecture as a basis for comparison."
      ]
    },
    {
      "cell_type": "markdown",
      "metadata": {
        "id": "u8PYMCUtvYXG",
        "colab_type": "text"
      },
      "source": [
        "### Import the relevant libraries"
      ]
    },
    {
      "cell_type": "code",
      "metadata": {
        "id": "xr82kBNpvYXH",
        "colab_type": "code",
        "colab": {}
      },
      "source": [
        "# We must always import the relevant libraries for our problem at hand. NumPy is a must for this example.\n",
        "import numpy as np\n",
        "\n",
        "# matplotlib and mpl_toolkits are not necessary. We employ them for the sole purpose of visualizing the results.  \n",
        "import matplotlib.pyplot as plt\n",
        "from mpl_toolkits.mplot3d import Axes3D"
      ],
      "execution_count": 0,
      "outputs": []
    },
    {
      "cell_type": "markdown",
      "metadata": {
        "id": "zkyQMpKsvYXK",
        "colab_type": "text"
      },
      "source": [
        "### Generate random input data to train on"
      ]
    },
    {
      "cell_type": "code",
      "metadata": {
        "scrolled": false,
        "id": "WKQgbLbdvYXL",
        "colab_type": "code",
        "colab": {
          "base_uri": "https://localhost:8080/",
          "height": 34
        },
        "outputId": "b9255d2a-b357-42a3-944a-d1e76459c9c1"
      },
      "source": [
        "# First, we should declare a variable containing the size of the training set we want to generate.\n",
        "observations = 1000\n",
        "\n",
        "# We will work with two variables as inputs. You can think about them as x1 and x2 in our previous examples.\n",
        "# We have picked x and z, since it is easier to differentiate them.\n",
        "# We generate them randomly, drawing from an uniform distribution. There are 3 arguments of this method (low, high, size).\n",
        "# The size of xs and zs is observations by 1. In this case: 1000 x 1.\n",
        "xs = np.random.uniform(low=-10, high=10, size=(observations,1))\n",
        "zs = np.random.uniform(-10, 10, (observations,1))\n",
        "\n",
        "# Combine the two dimensions of the input into one input matrix. \n",
        "# This is the X matrix from the linear model y = x*w + b.\n",
        "# column_stack is a Numpy method, which combines two vectors into a matrix. Alternatives are stack, dstack, hstack, etc.\n",
        "inputs = np.column_stack((xs,zs))\n",
        "\n",
        "# Check if the dimensions of the inputs are the same as the ones we defined in the linear model lectures. \n",
        "# They should be n x k, where n is the number of observations, and k is the number of variables, so 1000 x 2.\n",
        "print (inputs.shape)"
      ],
      "execution_count": 22,
      "outputs": [
        {
          "output_type": "stream",
          "text": [
            "(1000, 2)\n"
          ],
          "name": "stdout"
        }
      ]
    },
    {
      "cell_type": "markdown",
      "metadata": {
        "id": "JwQNnUT2vYXN",
        "colab_type": "text"
      },
      "source": [
        "### Generate the targets we will aim at"
      ]
    },
    {
      "cell_type": "code",
      "metadata": {
        "id": "BTDL5OOkvYXO",
        "colab_type": "code",
        "colab": {
          "base_uri": "https://localhost:8080/",
          "height": 34
        },
        "outputId": "287d550e-f463-4954-8eb5-47a7324461d6"
      },
      "source": [
        "# We want to \"make up\" a function, use the ML methodology, and see if the algorithm has learned it.\n",
        "# We add a small random noise to the function i.e. f(x,z) = 2x - 3z + 5 + <small noise>\n",
        "noise = np.random.uniform(-1, 1, (observations,1))\n",
        "\n",
        "# Produce the targets according to the f(x,z) = 2x - 3z + 5 + noise definition.\n",
        "# In this way, we are basically saying: the weights should be 2 and -3, while the bias is 5.\n",
        "targets = 2*xs - 3*zs + 5 + noise\n",
        "\n",
        "# Check the shape of the targets just in case. It should be n x m, where m is the number of output variables, so 1000 x 1.\n",
        "print (targets.shape)"
      ],
      "execution_count": 23,
      "outputs": [
        {
          "output_type": "stream",
          "text": [
            "(1000, 1)\n"
          ],
          "name": "stdout"
        }
      ]
    },
    {
      "cell_type": "markdown",
      "metadata": {
        "id": "fOkMJxl9vYXQ",
        "colab_type": "text"
      },
      "source": [
        "### Plot the training data\n",
        "The point is to see that there is a strong trend that our model should learn to reproduce."
      ]
    },
    {
      "cell_type": "code",
      "metadata": {
        "id": "ibqeJqGuvYXQ",
        "colab_type": "code",
        "colab": {
          "base_uri": "https://localhost:8080/",
          "height": 248
        },
        "outputId": "5e7bfbcd-f044-4b26-ffd4-4470c4552b8b"
      },
      "source": [
        "# In order to use the 3D plot, the objects should have a certain shape, so we reshape the targets.\n",
        "# The proper method to use is reshape and takes as arguments the dimensions in which we want to fit the object.\n",
        "targets = targets.reshape(observations,)\n",
        "\n",
        "# Plotting according to the conventional matplotlib.pyplot syntax\n",
        "\n",
        "# Declare the figure\n",
        "fig = plt.figure()\n",
        "\n",
        "# A method allowing us to create the 3D plot\n",
        "ax = fig.add_subplot(111, projection='3d')\n",
        "\n",
        "# Choose the axes.\n",
        "ax.plot(xs, zs, targets)\n",
        "\n",
        "# Set labels\n",
        "ax.set_xlabel('xs')\n",
        "ax.set_ylabel('zs')\n",
        "ax.set_zlabel('Targets')\n",
        "\n",
        "# You can fiddle with the azim parameter to plot the data from different angles. Just change the value of azim=100\n",
        "# to azim = 0 ; azim = 200, or whatever. Check and see what happens.\n",
        "ax.view_init(azim=100)\n",
        "\n",
        "# So far we were just describing the plot. This method actually shows the plot. \n",
        "plt.show()\n",
        "\n",
        "# We reshape the targets back to the shape that they were in before plotting.\n",
        "# This reshaping is a side-effect of the 3D plot. Sorry for that.\n",
        "targets = targets.reshape(observations,1)"
      ],
      "execution_count": 24,
      "outputs": [
        {
          "output_type": "display_data",
          "data": {
            "image/png": "[encoded data removed]",
            "text/plain": [
              "<Figure size 432x288 with 1 Axes>"
            ]
          },
          "metadata": {
            "tags": [],
            "needs_background": "light"
          }
        }
      ]
    },
    {
      "cell_type": "markdown",
      "metadata": {
        "id": "PN3cRECHvYXT",
        "colab_type": "text"
      },
      "source": [
        "### Initialize variables"
      ]
    },
    {
      "cell_type": "code",
      "metadata": {
        "id": "oaDPZ1VzvYXT",
        "colab_type": "code",
        "colab": {
          "base_uri": "https://localhost:8080/",
          "height": 68
        },
        "outputId": "20ce7eeb-6d7f-462e-f5bf-23778f994e73"
      },
      "source": [
        "# We will initialize the weights and biases randomly in some small initial range.\n",
        "# init_range is the variable that will measure that.\n",
        "# You can play around with the initial range, but we don't really encourage you to do so.\n",
        "# High initial ranges may prevent the machine learning algorithm from learning.\n",
        "init_range = 0.1\n",
        "\n",
        "# Weights are of size k x m, where k is the number of input variables and m is the number of output variables\n",
        "# In our case, the weights matrix is 2x1 since there are 2 inputs (x and z) and one output (y)\n",
        "weights = np.random.uniform(low=-init_range, high=init_range, size=(2, 1))\n",
        "\n",
        "# Biases are of size 1 since there is only 1 output. The bias is a scalar.\n",
        "biases = np.random.uniform(low=-init_range, high=init_range, size=1)\n",
        "\n",
        "#Print the weights to get a sense of how they were initialized.\n",
        "print (weights)\n",
        "print (biases)"
      ],
      "execution_count": 25,
      "outputs": [
        {
          "output_type": "stream",
          "text": [
            "[[0.04207157]\n",
            " [0.02530769]]\n",
            "[0.03739921]\n"
          ],
          "name": "stdout"
        }
      ]
    },
    {
      "cell_type": "markdown",
      "metadata": {
        "id": "k8abtXYwvYXV",
        "colab_type": "text"
      },
      "source": [
        "### Set a learning rate"
      ]
    },
    {
      "cell_type": "code",
      "metadata": {
        "id": "IjO7niluvYXW",
        "colab_type": "code",
        "colab": {}
      },
      "source": [
        "# Set some small learning rate (denoted eta in the lecture). \n",
        "# 0.02 is going to work quite well for our example. Once again, you can play around with it.\n",
        "# It is HIGHLY recommended that you play around with it.\n",
        "learning_rate = 0.02"
      ],
      "execution_count": 0,
      "outputs": []
    },
    {
      "cell_type": "markdown",
      "metadata": {
        "id": "L2VLlk36vYXY",
        "colab_type": "text"
      },
      "source": [
        "### Train the model"
      ]
    },
    {
      "cell_type": "code",
      "metadata": {
        "scrolled": true,
        "id": "7rPUDTbbvYXZ",
        "colab_type": "code",
        "colab": {
          "base_uri": "https://localhost:8080/",
          "height": 1000
        },
        "outputId": "8d3b2b4b-e0db-4be4-e1cf-1d341946ce2e"
      },
      "source": [
        "# We iterate over our training dataset 100 times. That works well with a learning rate of 0.02.\n",
        "# The proper number of iterations is something we will talk about later on, but generally\n",
        "# a lower learning rate would need more iterations, while a higher learning rate would need less iterations\n",
        "# keep in mind that a high learning rate may cause the loss to diverge to infinity, instead of converge to 0.\n",
        "for i in range (100):\n",
        "    \n",
        "    # This is the linear model: y = xw + b equation\n",
        "    outputs = np.dot(inputs,weights) + biases\n",
        "    # The deltas are the differences between the outputs and the targets\n",
        "    # Note that deltas here is a vector 1000 x 1\n",
        "    deltas = outputs - targets\n",
        "        \n",
        "    # We are considering the L2-norm loss, but divided by 2, so it is consistent with the lectures.\n",
        "    # Moreover, we further divide it by the number of observations.\n",
        "    # This is simple rescaling by a constant. We explained that this doesn't change the optimization logic,\n",
        "    # as any function holding the basic property of being lower for better results, and higher for worse results\n",
        "    # can be a loss function.\n",
        "    loss = np.sum(deltas ** 2) / 2 / observations\n",
        "    \n",
        "    # We print the loss function value at each step so we can observe whether it is decreasing as desired.\n",
        "    print (loss)\n",
        "    \n",
        "    # Another small trick is to scale the deltas the same way as the loss function\n",
        "    # In this way our learning rate is independent of the number of samples (observations).\n",
        "    # Again, this doesn't change anything in principle, it simply makes it easier to pick a single learning rate\n",
        "    # that can remain the same if we change the number of training samples (observations).\n",
        "    # You can try solving the problem without rescaling to see how that works for you.\n",
        "    deltas_scaled = deltas / observations\n",
        "    \n",
        "    # Finally, we must apply the gradient descent update rules from the relevant lecture.\n",
        "    # The weights are 2x1, learning rate is 1x1 (scalar), inputs are 1000x2, and deltas_scaled are 1000x1\n",
        "    # We must transpose the inputs so that we get an allowed operation.\n",
        "    weights = weights - learning_rate * np.dot(inputs.T,deltas_scaled)\n",
        "    biases = biases - learning_rate * np.sum(deltas_scaled)\n",
        "    \n",
        "    # The weights are updated in a linear algebraic way (a matrix minus another matrix)\n",
        "    # The biases, however, are just a single number here, so we must transform the deltas into a scalar.\n",
        "    # The two lines are both consistent with the gradient descent methodology. "
      ],
      "execution_count": 27,
      "outputs": [
        {
          "output_type": "stream",
          "text": [
            "230.4592664228978\n",
            "36.77723020852802\n",
            "14.192727239285555\n",
            "11.196806309759632\n",
            "10.477335007680892\n",
            "10.037021855543573\n",
            "9.643362570315254\n",
            "9.26867198690508\n",
            "8.909175387121413\n",
            "8.563917814731488\n",
            "8.232295406778428\n",
            "7.913764978532252\n",
            "7.607809124220343\n",
            "7.3139313742380185\n",
            "7.0316549181101635\n",
            "6.760521775313977\n",
            "6.50009204567533\n",
            "6.24994319487967\n",
            "6.009669368839912\n",
            "5.778880735207585\n",
            "5.55720285088793\n",
            "5.344276054524442\n",
            "5.139754882966152\n",
            "4.9433075107708335\n",
            "4.754615211834698\n",
            "4.573371842275112\n",
            "4.39928334372738\n",
            "4.232067266249636\n",
            "4.0714523100618365\n",
            "3.9171778853753585\n",
            "3.768993689599004\n",
            "3.626659301235473\n",
            "3.489943789809435\n",
            "3.3586253411943043\n",
            "3.2324908977298206\n",
            "3.1113358125465993\n",
            "2.9949635175367364\n",
            "2.883185204431826\n",
            "2.775819518470909\n",
            "2.6726922641614057\n",
            "2.5736361226555546\n",
            "2.47849038028391\n",
            "2.387100667805385\n",
            "2.2993187099508403\n",
            "2.215002084853813\n",
            "2.134013992978109\n",
            "2.056223035167365\n",
            "1.9815029994564288\n",
            "1.9097326562987262\n",
            "1.8407955618773386\n",
            "1.7745798691806882\n",
            "1.7109781465363294\n",
            "1.6498872033083882\n",
            "1.5912079224758782\n",
            "1.5348450998202676\n",
            "1.4807072894613524\n",
            "1.4287066554908687\n",
            "1.3787588294630844\n",
            "1.3307827735111897\n",
            "1.2847006488673893\n",
            "1.2404376895733593\n",
            "1.1979220811762006\n",
            "1.1570848442130495\n",
            "1.1178597222953313\n",
            "1.0801830746110554\n",
            "1.0439937726707649\n",
            "1.0092331011295967\n",
            "0.9758446625245435\n",
            "0.9437742857723838\n",
            "0.9129699382797828\n",
            "0.8833816415229925\n",
            "0.8549613899601854\n",
            "0.8276630731448413\n",
            "0.8014424009138434\n",
            "0.7762568315288849\n",
            "0.7520655026546132\n",
            "0.7288291650615184\n",
            "0.7065101189460131\n",
            "0.6850721527643683\n",
            "0.6644804844812823\n",
            "0.644701705137761\n",
            "0.6257037246467354\n",
            "0.6074557197284962\n",
            "0.5899280839014464\n",
            "0.5730923794470584\n",
            "0.5569212912710887\n",
            "0.5413885825861962\n",
            "0.5264690523440531\n",
            "0.512138494347897\n",
            "0.49837365797918437\n",
            "0.48515221047460844\n",
            "0.47245270069230666\n",
            "0.46025452430844566\n",
            "0.44853789038772934\n",
            "0.43728378927358985\n",
            "0.4264739617459633\n",
            "0.4160908693966147\n",
            "0.406117666173937\n",
            "0.3965381710510745\n",
            "0.3873368417730052\n"
          ],
          "name": "stdout"
        }
      ]
    },
    {
      "cell_type": "markdown",
      "metadata": {
        "id": "3qqPtW9zvYXb",
        "colab_type": "text"
      },
      "source": [
        "### Print weights and biases and see if we have worked correctly."
      ]
    },
    {
      "cell_type": "code",
      "metadata": {
        "id": "egHPlQ-8vYXb",
        "colab_type": "code",
        "colab": {
          "base_uri": "https://localhost:8080/",
          "height": 51
        },
        "outputId": "f0525901-df93-4929-f7b7-b327683387e3"
      },
      "source": [
        "# We print the weights and the biases, so we can see if they have converged to what we wanted.\n",
        "# When declared the targets, following the f(x,z), we knew the weights should be 2 and -3, while the bias: 5.\n",
        "print (weights, biases)\n",
        "\n",
        "# Note that they may be convergING. So more iterations are needed."
      ],
      "execution_count": 28,
      "outputs": [
        {
          "output_type": "stream",
          "text": [
            "[[ 2.00854091]\n",
            " [-3.0018893 ]] [4.32116747]\n"
          ],
          "name": "stdout"
        }
      ]
    },
    {
      "cell_type": "markdown",
      "metadata": {
        "id": "6-xY75aivYXe",
        "colab_type": "text"
      },
      "source": [
        "### Plot last outputs vs targets\n",
        "Since they are the last ones at the end of the training, they represent the final model accuracy. <br/>\n",
        "The closer this plot is to a 45 degree line, the closer target and output values are."
      ]
    },
    {
      "cell_type": "code",
      "metadata": {
        "id": "BYQrkIwxvYXe",
        "colab_type": "code",
        "colab": {
          "base_uri": "https://localhost:8080/",
          "height": 279
        },
        "outputId": "60fb007b-9747-43f9-cbb2-cd608b5ba308"
      },
      "source": [
        "# We print the outputs and the targets in order to see if they have a linear relationship.\n",
        "# Again, that's not needed. Moreover, in later lectures, that would not even be possible.\n",
        "plt.plot(outputs,targets)\n",
        "plt.xlabel('outputs')\n",
        "plt.ylabel('targets')\n",
        "plt.show()"
      ],
      "execution_count": 29,
      "outputs": [
        {
          "output_type": "display_data",
          "data": {
            "image/png": "[encoded data removed]",
            "text/plain": [
              "<Figure size 432x288 with 1 Axes>"
            ]
          },
          "metadata": {
            "tags": [],
            "needs_background": "light"
          }
        }
      ]
    }
  ]
}