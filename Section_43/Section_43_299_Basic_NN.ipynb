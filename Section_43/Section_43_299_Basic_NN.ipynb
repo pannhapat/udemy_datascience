{
  "nbformat": 4,
  "nbformat_minor": 0,
  "metadata": {
    "anaconda-cloud": {},
    "kernelspec": {
      "display_name": "Python 3",
      "language": "python",
      "name": "python3"
    },
    "language_info": {
      "codemirror_mode": {
        "name": "ipython",
        "version": 3
      },
      "file_extension": ".py",
      "mimetype": "text/x-python",
      "name": "python",
      "nbconvert_exporter": "python",
      "pygments_lexer": "ipython3",
      "version": "3.6.2"
    },
    "colab": {
      "name": "Section_43_299_Basic_NN.ipynb",
      "provenance": [],
      "include_colab_link": true
    }
  },
  "cells": [
    {
      "cell_type": "markdown",
      "metadata": {
        "id": "view-in-github",
        "colab_type": "text"
      },
      "source": [
        "<a href=\"https://colab.research.google.com/github/pannhapat/udemy_datascience/blob/master/Section_43/Section_43_299_Basic_NN.ipynb\" target=\"_parent\"><img src=\"https://colab.research.google.com/assets/colab-badge.svg\" alt=\"Open In Colab\"/></a>"
      ]
    },
    {
      "cell_type": "markdown",
      "metadata": {
        "id": "qAAhtW7Q8XAv",
        "colab_type": "text"
      },
      "source": [
        "# Simple Linear Regression. Minimal example"
      ]
    },
    {
      "cell_type": "markdown",
      "metadata": {
        "id": "vaLxhkcU8XAw",
        "colab_type": "text"
      },
      "source": [
        "### Import the relevant libraries"
      ]
    },
    {
      "cell_type": "code",
      "metadata": {
        "id": "9ak7IKtS8XAx",
        "colab_type": "code",
        "colab": {}
      },
      "source": [
        "# We must always import the relevant libraries for our problem at hand. NumPy is a must for this example.\n",
        "import numpy as np\n",
        "\n",
        "# matplotlib and mpl_toolkits are not necessary. We employ them for the sole purpose of visualizing the results.  \n",
        "import matplotlib.pyplot as plt\n",
        "from mpl_toolkits.mplot3d import Axes3D"
      ],
      "execution_count": 0,
      "outputs": []
    },
    {
      "cell_type": "markdown",
      "metadata": {
        "id": "dD2_itSE8XA0",
        "colab_type": "text"
      },
      "source": [
        "### Generate random input data to train on"
      ]
    },
    {
      "cell_type": "code",
      "metadata": {
        "scrolled": false,
        "id": "7XBt8rI68XA1",
        "colab_type": "code",
        "colab": {
          "base_uri": "https://localhost:8080/",
          "height": 34
        },
        "outputId": "693b9087-ef98-4647-bf28-1be9d9d814bb"
      },
      "source": [
        "# First, we should declare a variable containing the size of the training set we want to generate.\n",
        "observations = 1000\n",
        "\n",
        "# We will work with two variables as inputs. You can think about them as x1 and x2 in our previous examples.\n",
        "# We have picked x and z, since it is easier to differentiate them.\n",
        "# We generate them randomly, drawing from an uniform distribution. There are 3 arguments of this method (low, high, size).\n",
        "# The size of xs and zs is observations x 1. In this case: 1000 x 1.\n",
        "xs = np.random.uniform(low=-10, high=10, size=(observations,1))\n",
        "zs = np.random.uniform(-10, 10, (observations,1))\n",
        "\n",
        "# Combine the two dimensions.сх of the input into one input matrix. \n",
        "# This is the X matrix from the linear model y = x*w + b.\n",
        "# column_stack is a Numpy method, which combines two matrices (vectors) into one.\n",
        "# Input numpy\n",
        "#\tInputs = np.column_stack((xs,zs))\n",
        "#\tInputs = n X k = 1000 x 2\n",
        "#(1000 rows , 2 Columns)\n",
        "\n",
        "inputs = np.column_stack((xs,zs))\n",
        "\n",
        "# Check if the dimensions of the inputs are the same as the ones we defined in the linear model lectures. \n",
        "# They should be n x k, where n is the number of observations, and k is the number of variables, so 1000 x 2.\n",
        "print (inputs.shape)"
      ],
      "execution_count": 8,
      "outputs": [
        {
          "output_type": "stream",
          "text": [
            "(1000, 2)\n"
          ],
          "name": "stdout"
        }
      ]
    },
    {
      "cell_type": "markdown",
      "metadata": {
        "id": "OUXU7ze98XA4",
        "colab_type": "text"
      },
      "source": [
        "### Generate the targets we will aim at"
      ]
    },
    {
      "cell_type": "code",
      "metadata": {
        "id": "DetCiOoR8XA4",
        "colab_type": "code",
        "colab": {
          "base_uri": "https://localhost:8080/",
          "height": 34
        },
        "outputId": "be84eeb7-700a-429e-e2c7-da83d4d456d6"
      },
      "source": [
        "# We add a random small noise to the function i.e. f(x,z) = 2x - 3z + 5 + <small noise>\n",
        "noise = np.random.uniform(-1, 1, (observations,1))\n",
        "\n",
        "# Produce the targets according to our f(x,z) = 2x - 3z + 5 + noise definition.\n",
        "# In this way, we are basically saying: the weights should be 2 and -3, while the bias is 5.\n",
        "targets = 2*xs - 3*zs + 5 + noise\n",
        "\n",
        "# Check the shape of the targets just in case.\n",
        "print (targets.shape)"
      ],
      "execution_count": 12,
      "outputs": [
        {
          "output_type": "stream",
          "text": [
            "(1000, 1)\n"
          ],
          "name": "stdout"
        }
      ]
    },
    {
      "cell_type": "markdown",
      "metadata": {
        "id": "KTSvzR1f8XA6",
        "colab_type": "text"
      },
      "source": [
        "### Plot the training data\n",
        "The point is to see that there is a strong trend that our model should learn to reproduce."
      ]
    },
    {
      "cell_type": "code",
      "metadata": {
        "id": "pBlIobK88XA7",
        "colab_type": "code",
        "colab": {
          "base_uri": "https://localhost:8080/",
          "height": 248
        },
        "outputId": "5ff088f8-dbbf-4235-e712-1c386ea72911"
      },
      "source": [
        "# In order to use the 3D plot, the objects should have a certain shape, so we reshape the targets.\n",
        "# The proper method to use is reshape and takes as arguments the dimensions in which we want to fit the object.\n",
        "targets = targets.reshape(observations,)\n",
        "\n",
        "# Plotting according to the conventional matplotlib.pyplot syntax\n",
        "\n",
        "# Declare the figure\n",
        "fig = plt.figure()\n",
        "\n",
        "# A method allowing us to create the 3D plot\n",
        "ax = fig.add_subplot(111, projection='3d')\n",
        "\n",
        "# Choose the axes.\n",
        "ax.plot(xs, zs, targets)\n",
        "\n",
        "# Set labels\n",
        "ax.set_xlabel('xs')\n",
        "ax.set_ylabel('zs')\n",
        "ax.set_zlabel('Targets')\n",
        "\n",
        "# You can fiddle with the azim parameter to plot the data from different angles. Just change the value of azim=100\n",
        "# to azim = 0 ; azim = 200, or whatever. Check and see what happens.\n",
        "ax.view_init(azim=100)\n",
        "\n",
        "# So far we were just describing the plot. This method actually shows the plot. \n",
        "plt.show()\n",
        "\n",
        "# We reshape the targets back to the shape that they were in before plotting.\n",
        "# This reshaping is a side-effect of the 3D plot. Sorry for that.\n",
        "targets = targets.reshape(observations,1)"
      ],
      "execution_count": 13,
      "outputs": [
        {
          "output_type": "display_data",
          "data": {
            "image/png": "[encoded data removed]",
            "text/plain": [
              "<Figure size 432x288 with 1 Axes>"
            ]
          },
          "metadata": {
            "tags": [],
            "needs_background": "light"
          }
        }
      ]
    },
    {
      "cell_type": "markdown",
      "metadata": {
        "id": "ENsaXrj3BASa",
        "colab_type": "text"
      },
      "source": [
        "Linear relationship in 2D is straightline \n",
        "Linear relationship in 3D is a plane (like in this graph)\n",
        "learning_rate = 0.01"
      ]
    },
    {
      "cell_type": "markdown",
      "metadata": {
        "id": "GGvxAATV8XA-",
        "colab_type": "text"
      },
      "source": [
        "### Initialize variables"
      ]
    },
    {
      "cell_type": "code",
      "metadata": {
        "id": "9-jjozYf8XA-",
        "colab_type": "code",
        "colab": {}
      },
      "source": [
        "# We will initialize the weights and biases randomly in some small initial range.\n",
        "# init_range is the variable that will measure that.\n",
        "# You can play around with the initial range, but we don't really encourage you to do so.\n",
        "# High initial ranges may prevent the machine learning algorithm from learning.\n",
        "# initial range     -0.1  0  0.1\n",
        "# Our initial weights and biases will be picked randomly from the interval [-0.1 , 0.1]\n",
        "\n",
        "\n",
        "init_range = 0.1\n",
        "\n",
        "# Weights are of size k x m, where k is the number of input variables and m is the number of output variables\n",
        "# In our case, the weights matrix is 2x1 since there are 2 inputs (x and z) and one output (y)\n",
        "weights = np.random.uniform(low=-init_range, high=init_range, size=(2, 1))\n",
        "\n",
        "# Biases are of size 1 since there is only 1 output. The bias is a scalar.\n",
        "biases = np.random.uniform(low=-init_range, high=init_range, size=1)\n",
        "\n",
        "#Print the weights to get a sense of how they were initialized.\n",
        "print (weights)\n",
        "print (biases)"
      ],
      "execution_count": 0,
      "outputs": []
    },
    {
      "cell_type": "markdown",
      "metadata": {
        "id": "is3l1gmu8XBB",
        "colab_type": "text"
      },
      "source": [
        "### Set a learning rate"
      ]
    },
    {
      "cell_type": "code",
      "metadata": {
        "id": "Q8RwUcqz8XBB",
        "colab_type": "code",
        "colab": {}
      },
      "source": [
        "# Set some small learning rate (denoted eta in the lecture). \n",
        "# 0.02 is going to work quite well for our example. Once again, you can play around with it.\n",
        "# It is HIGHLY recommended that you play around with it.\n",
        "# Set a learning rate\n",
        "# learning_rate = 0.02\n",
        "# I found this learning rate useful for the demonstration (nothing special about it) For homework you'll have to play around with it, so you can see how different etas affect the speed of optimization\n",
        "\n",
        "\n",
        "learning_rate = 0.02"
      ],
      "execution_count": 0,
      "outputs": []
    }
  ]
}