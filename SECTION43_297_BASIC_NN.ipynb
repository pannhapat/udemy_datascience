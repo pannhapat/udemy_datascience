{
  "nbformat": 4,
  "nbformat_minor": 0,
  "metadata": {
    "colab": {
      "name": "SECTION43-297-BASIC NN.ipynb",
      "provenance": [],
      "private_outputs": true,
      "authorship_tag": "ABX9TyMPEg5TQf0J/o0tx07ZojXk",
      "include_colab_link": true
    },
    "kernelspec": {
      "name": "python3",
      "display_name": "Python 3"
    }
  },
  "cells": [
    {
      "cell_type": "markdown",
      "metadata": {
        "id": "view-in-github",
        "colab_type": "text"
      },
      "source": [
        "<a href=\"https://colab.research.google.com/github/pannhapat/udemy_datascience/blob/master/SECTION43_297_BASIC_NN.ipynb\" target=\"_parent\"><img src=\"https://colab.research.google.com/assets/colab-badge.svg\" alt=\"Open In Colab\"/></a>"
      ]
    },
    {
      "cell_type": "markdown",
      "metadata": {
        "id": "8VTvgpZWdVL-",
        "colab_type": "text"
      },
      "source": [
        "Simple Linear Regression. Minimal Example"
      ]
    },
    {
      "cell_type": "markdown",
      "metadata": {
        "id": "e73mbz8bdeEo",
        "colab_type": "text"
      },
      "source": [
        "1) Import the relevent libraries"
      ]
    },
    {
      "cell_type": "code",
      "metadata": {
        "id": "Qw0CkQbNdCBP",
        "colab_type": "code",
        "colab": {}
      },
      "source": [
        "# We must always import the relevant libraries for our problem at hand. NumPy is a must for this example.\n",
        "\n",
        "import numpy as np\n",
        "\n",
        "# matplotlib and mpl_toolkits are not necessary. We employ them for the sole purpose of visualizing the results.  \n",
        "\n",
        "import matplotlib.pyplot as plt\n",
        "from mpl_toolkits.mplot3d import Axes3D"
      ],
      "execution_count": 0,
      "outputs": []
    },
    {
      "cell_type": "markdown",
      "metadata": {
        "id": "7ERXJMpUdim5",
        "colab_type": "text"
      },
      "source": [
        "2) Generate random input data to train on"
      ]
    },
    {
      "cell_type": "code",
      "metadata": {
        "id": "vNqcqY4LdWUU",
        "colab_type": "code",
        "colab": {}
      },
      "source": [
        ""
      ],
      "execution_count": 0,
      "outputs": []
    },
    {
      "cell_type": "markdown",
      "metadata": {
        "id": "h6Hd7LZ7dndh",
        "colab_type": "text"
      },
      "source": [
        "3) Create targets we will aim at"
      ]
    },
    {
      "cell_type": "code",
      "metadata": {
        "id": "_eXJ1gQqdq5l",
        "colab_type": "code",
        "colab": {}
      },
      "source": [
        ""
      ],
      "execution_count": 0,
      "outputs": []
    },
    {
      "cell_type": "markdown",
      "metadata": {
        "id": "gvjiha-Cdra6",
        "colab_type": "text"
      },
      "source": [
        "4) Plot the training data"
      ]
    },
    {
      "cell_type": "code",
      "metadata": {
        "id": "qcwNd-hvfnoS",
        "colab_type": "code",
        "colab": {}
      },
      "source": [
        ""
      ],
      "execution_count": 0,
      "outputs": []
    },
    {
      "cell_type": "markdown",
      "metadata": {
        "id": "8AQQD8uSfrnY",
        "colab_type": "text"
      },
      "source": [
        "5) Create weights"
      ]
    },
    {
      "cell_type": "code",
      "metadata": {
        "id": "cDsHQtudfuo9",
        "colab_type": "code",
        "colab": {}
      },
      "source": [
        ""
      ],
      "execution_count": 0,
      "outputs": []
    },
    {
      "cell_type": "markdown",
      "metadata": {
        "id": "2k9TBQKJfvEm",
        "colab_type": "text"
      },
      "source": [
        "6) Create biases"
      ]
    },
    {
      "cell_type": "code",
      "metadata": {
        "id": "J3_l28sVfxVS",
        "colab_type": "code",
        "colab": {}
      },
      "source": [
        ""
      ],
      "execution_count": 0,
      "outputs": []
    },
    {
      "cell_type": "markdown",
      "metadata": {
        "id": "iu5MUU7afyZK",
        "colab_type": "text"
      },
      "source": [
        "7) Set a learning rate"
      ]
    },
    {
      "cell_type": "code",
      "metadata": {
        "id": "aq45d3iKf1yf",
        "colab_type": "code",
        "colab": {}
      },
      "source": [
        ""
      ],
      "execution_count": 0,
      "outputs": []
    }
  ]
}