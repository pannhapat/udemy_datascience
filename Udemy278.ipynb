{
  "nbformat": 4,
  "nbformat_minor": 0,
  "metadata": {
    "colab": {
      "name": "Udemy278.ipynb",
      "provenance": [],
      "private_outputs": true,
      "authorship_tag": "ABX9TyN0p9A2wlCO3xOWhAT6SUY7",
      "include_colab_link": true
    },
    "kernelspec": {
      "name": "python3",
      "display_name": "Python 3"
    }
  },
  "cells": [
    {
      "cell_type": "markdown",
      "metadata": {
        "id": "view-in-github",
        "colab_type": "text"
      },
      "source": [
        "<a href=\"https://colab.research.google.com/github/pannhapat/udemy_datascience/blob/master/Udemy278.ipynb\" target=\"_parent\"><img src=\"https://colab.research.google.com/assets/colab-badge.svg\" alt=\"Open In Colab\"/></a>"
      ]
    },
    {
      "cell_type": "markdown",
      "metadata": {
        "id": "rgY8rSQMokH5",
        "colab_type": "text"
      },
      "source": [
        "Addition and Subtraction of Matrices"
      ]
    },
    {
      "cell_type": "code",
      "metadata": {
        "id": "8SI1lX5OmxSL",
        "colab_type": "code",
        "colab": {}
      },
      "source": [
        "import numpy as np"
      ],
      "execution_count": 0,
      "outputs": []
    },
    {
      "cell_type": "code",
      "metadata": {
        "id": "Rbj_FD6CrFLi",
        "colab_type": "code",
        "colab": {}
      },
      "source": [
        "5+5"
      ],
      "execution_count": 0,
      "outputs": []
    },
    {
      "cell_type": "markdown",
      "metadata": {
        "id": "zRJtuRgsrdkn",
        "colab_type": "text"
      },
      "source": [
        "Addition of matrices"
      ]
    },
    {
      "cell_type": "code",
      "metadata": {
        "id": "RFf6V6gPrGvL",
        "colab_type": "code",
        "colab": {}
      },
      "source": [
        "m1 = np.array([[5,12,6],[-3,0,14]])\n",
        "m1 "
      ],
      "execution_count": 0,
      "outputs": []
    },
    {
      "cell_type": "code",
      "metadata": {
        "id": "YCR7xO1Mr3Sj",
        "colab_type": "code",
        "colab": {}
      },
      "source": [
        "m3 = np.array([[5,3],[-2,4]])\n",
        "m3"
      ],
      "execution_count": 0,
      "outputs": []
    },
    {
      "cell_type": "code",
      "metadata": {
        "id": "Xn2oP0K17NEl",
        "colab_type": "code",
        "colab": {}
      },
      "source": [
        "m1+m3"
      ],
      "execution_count": 0,
      "outputs": []
    },
    {
      "cell_type": "markdown",
      "metadata": {
        "id": "qyR8xlje7pyo",
        "colab_type": "text"
      },
      "source": [
        "Addition of vectors"
      ]
    },
    {
      "cell_type": "code",
      "metadata": {
        "id": "8BS6iEWY7r9d",
        "colab_type": "code",
        "colab": {}
      },
      "source": [
        "v1 = np.array([1,2,3,4,5])\n",
        "v1"
      ],
      "execution_count": 0,
      "outputs": []
    },
    {
      "cell_type": "code",
      "metadata": {
        "id": "a7FVObGQ7yyI",
        "colab_type": "code",
        "colab": {}
      },
      "source": [
        "v3 = np.array([1,2,3])\n",
        "v3"
      ],
      "execution_count": 0,
      "outputs": []
    },
    {
      "cell_type": "code",
      "metadata": {
        "id": "-4nTE8Cp73yZ",
        "colab_type": "code",
        "colab": {}
      },
      "source": [
        "v1+v3"
      ],
      "execution_count": 0,
      "outputs": []
    },
    {
      "cell_type": "markdown",
      "metadata": {
        "id": "O5gFShye8CmV",
        "colab_type": "text"
      },
      "source": [
        "Mathematically these operations don't make sense\n"
      ]
    },
    {
      "cell_type": "markdown",
      "metadata": {
        "id": "9ncUEYNH8M9Y",
        "colab_type": "text"
      },
      "source": [
        "Exceptions (addition with scalar)"
      ]
    },
    {
      "cell_type": "code",
      "metadata": {
        "id": "pyRc-HW_8CQ3",
        "colab_type": "code",
        "colab": {}
      },
      "source": [
        "m1"
      ],
      "execution_count": 0,
      "outputs": []
    },
    {
      "cell_type": "code",
      "metadata": {
        "id": "dv8KI0-x76gX",
        "colab_type": "code",
        "colab": {}
      },
      "source": [
        "m1 + 1"
      ],
      "execution_count": 0,
      "outputs": []
    },
    {
      "cell_type": "code",
      "metadata": {
        "id": "7mrBknKl8Uht",
        "colab_type": "code",
        "colab": {}
      },
      "source": [
        "v1 "
      ],
      "execution_count": 0,
      "outputs": []
    },
    {
      "cell_type": "code",
      "metadata": {
        "id": "SD4w2kOo8XuK",
        "colab_type": "code",
        "colab": {}
      },
      "source": [
        "v1 + 1"
      ],
      "execution_count": 0,
      "outputs": []
    },
    {
      "cell_type": "markdown",
      "metadata": {
        "id": "hhB73piO8ecp",
        "colab_type": "text"
      },
      "source": [
        "It is very important to be aware of this peculiarity"
      ]
    },
    {
      "cell_type": "code",
      "metadata": {
        "id": "jqiLyKql8XrS",
        "colab_type": "code",
        "colab": {}
      },
      "source": [
        "m1 + np.array([1])"
      ],
      "execution_count": 0,
      "outputs": []
    },
    {
      "cell_type": "code",
      "metadata": {
        "id": "PObvjWwz8Xog",
        "colab_type": "code",
        "colab": {}
      },
      "source": [
        "v1 + np.array([1])"
      ],
      "execution_count": 0,
      "outputs": []
    },
    {
      "cell_type": "code",
      "metadata": {
        "id": "-Jys7w7f8Xjv",
        "colab_type": "code",
        "colab": {}
      },
      "source": [
        ""
      ],
      "execution_count": 0,
      "outputs": []
    }
  ]
}