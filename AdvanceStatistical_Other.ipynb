{
  "nbformat": 4,
  "nbformat_minor": 0,
  "metadata": {
    "colab": {
      "name": "AdvanceStatistical-Other.ipynb",
      "provenance": [],
      "authorship_tag": "ABX9TyMqmtw+Tjpxi0c7DE+fni+N",
      "include_colab_link": true
    },
    "kernelspec": {
      "name": "python3",
      "display_name": "Python 3"
    }
  },
  "cells": [
    {
      "cell_type": "markdown",
      "metadata": {
        "id": "view-in-github",
        "colab_type": "text"
      },
      "source": [
        "<a href=\"https://colab.research.google.com/github/pannhapat/udemy_datascience/blob/master/AdvanceStatistical_Other.ipynb\" target=\"_parent\"><img src=\"https://colab.research.google.com/assets/colab-badge.svg\" alt=\"Open In Colab\"/></a>"
      ]
    },
    {
      "cell_type": "markdown",
      "metadata": {
        "id": "iCJd98K_arg0",
        "colab_type": "text"
      },
      "source": [
        "Cluster Analysis Heatmaps and "
      ]
    },
    {
      "cell_type": "code",
      "metadata": {
        "id": "tjtCELi_angz",
        "colab_type": "code",
        "colab": {}
      },
      "source": [
        "import numpy as np\n",
        "import pandas as pd\n",
        "import matplotlib.pyplot as plt\n",
        "import seaborn as sns"
      ],
      "execution_count": 0,
      "outputs": []
    },
    {
      "cell_type": "code",
      "metadata": {
        "id": "mR4C86G1aorS",
        "colab_type": "code",
        "colab": {}
      },
      "source": [
        "data = pd.read_csv('/content/Country clusters standardized.csv',index_col = 'Country')"
      ],
      "execution_count": 0,
      "outputs": []
    },
    {
      "cell_type": "markdown",
      "metadata": {
        "id": "HfPEG-mX0VzS",
        "colab_type": "text"
      },
      "source": [
        "Load (*.csv,index_col) load a given CSV file as a data frame; index_col is an argument which can specify a given column from the CSV as index of the data frame pandas"
      ]
    },
    {
      "cell_type": "code",
      "metadata": {
        "id": "RaCw-5XzbIZL",
        "colab_type": "code",
        "colab": {
          "base_uri": "https://localhost:8080/",
          "height": 266
        },
        "outputId": "f0f5da07-83e8-4ef3-f78a-59abcfc8a18c"
      },
      "source": [
        "data\n"
      ],
      "execution_count": 6,
      "outputs": [
        {
          "output_type": "execute_result",
          "data": {
            "text/html": [
              "<div>\n",
              "<style scoped>\n",
              "    .dataframe tbody tr th:only-of-type {\n",
              "        vertical-align: middle;\n",
              "    }\n",
              "\n",
              "    .dataframe tbody tr th {\n",
              "        vertical-align: top;\n",
              "    }\n",
              "\n",
              "    .dataframe thead th {\n",
              "        text-align: right;\n",
              "    }\n",
              "</style>\n",
              "<table border=\"1\" class=\"dataframe\">\n",
              "  <thead>\n",
              "    <tr style=\"text-align: right;\">\n",
              "      <th></th>\n",
              "      <th>Latitude</th>\n",
              "      <th>Longitude</th>\n",
              "      <th>Language</th>\n",
              "    </tr>\n",
              "    <tr>\n",
              "      <th>Country</th>\n",
              "      <th></th>\n",
              "      <th></th>\n",
              "      <th></th>\n",
              "    </tr>\n",
              "  </thead>\n",
              "  <tbody>\n",
              "    <tr>\n",
              "      <th>USA</th>\n",
              "      <td>0.186540</td>\n",
              "      <td>-1.089160</td>\n",
              "      <td>0</td>\n",
              "    </tr>\n",
              "    <tr>\n",
              "      <th>Canada</th>\n",
              "      <td>0.728588</td>\n",
              "      <td>-1.008604</td>\n",
              "      <td>0</td>\n",
              "    </tr>\n",
              "    <tr>\n",
              "      <th>France</th>\n",
              "      <td>0.241895</td>\n",
              "      <td>0.137900</td>\n",
              "      <td>1</td>\n",
              "    </tr>\n",
              "    <tr>\n",
              "      <th>UK</th>\n",
              "      <td>0.467671</td>\n",
              "      <td>0.080922</td>\n",
              "      <td>0</td>\n",
              "    </tr>\n",
              "    <tr>\n",
              "      <th>Germany</th>\n",
              "      <td>0.378729</td>\n",
              "      <td>0.230360</td>\n",
              "      <td>2</td>\n",
              "    </tr>\n",
              "    <tr>\n",
              "      <th>Australia</th>\n",
              "      <td>-2.003422</td>\n",
              "      <td>1.648581</td>\n",
              "      <td>0</td>\n",
              "    </tr>\n",
              "  </tbody>\n",
              "</table>\n",
              "</div>"
            ],
            "text/plain": [
              "           Latitude  Longitude  Language\n",
              "Country                                 \n",
              "USA        0.186540  -1.089160         0\n",
              "Canada     0.728588  -1.008604         0\n",
              "France     0.241895   0.137900         1\n",
              "UK         0.467671   0.080922         0\n",
              "Germany    0.378729   0.230360         2\n",
              "Australia -2.003422   1.648581         0"
            ]
          },
          "metadata": {
            "tags": []
          },
          "execution_count": 6
        }
      ]
    },
    {
      "cell_type": "markdown",
      "metadata": {
        "id": "CCrUJGdZ0TnN",
        "colab_type": "text"
      },
      "source": [
        ""
      ]
    },
    {
      "cell_type": "code",
      "metadata": {
        "id": "RtAU6ufEbJRw",
        "colab_type": "code",
        "colab": {}
      },
      "source": [
        "x_scaled = data.copy()\n",
        "x_scaled = x_scaled.drop(['Language'],axis=1)"
      ],
      "execution_count": 0,
      "outputs": []
    },
    {
      "cell_type": "markdown",
      "metadata": {
        "id": "xuriuL1Y2QUK",
        "colab_type": "text"
      },
      "source": [
        "x_scaled.drop(['Language'],axis=1) ลบ Column Language ออก"
      ]
    },
    {
      "cell_type": "code",
      "metadata": {
        "id": "6xIpA73u06YR",
        "colab_type": "code",
        "colab": {
          "base_uri": "https://localhost:8080/",
          "height": 266
        },
        "outputId": "ef77fa02-a3bc-49e6-9c26-67176a9a2b93"
      },
      "source": [
        "x_scaled"
      ],
      "execution_count": 8,
      "outputs": [
        {
          "output_type": "execute_result",
          "data": {
            "text/html": [
              "<div>\n",
              "<style scoped>\n",
              "    .dataframe tbody tr th:only-of-type {\n",
              "        vertical-align: middle;\n",
              "    }\n",
              "\n",
              "    .dataframe tbody tr th {\n",
              "        vertical-align: top;\n",
              "    }\n",
              "\n",
              "    .dataframe thead th {\n",
              "        text-align: right;\n",
              "    }\n",
              "</style>\n",
              "<table border=\"1\" class=\"dataframe\">\n",
              "  <thead>\n",
              "    <tr style=\"text-align: right;\">\n",
              "      <th></th>\n",
              "      <th>Latitude</th>\n",
              "      <th>Longitude</th>\n",
              "    </tr>\n",
              "    <tr>\n",
              "      <th>Country</th>\n",
              "      <th></th>\n",
              "      <th></th>\n",
              "    </tr>\n",
              "  </thead>\n",
              "  <tbody>\n",
              "    <tr>\n",
              "      <th>USA</th>\n",
              "      <td>0.186540</td>\n",
              "      <td>-1.089160</td>\n",
              "    </tr>\n",
              "    <tr>\n",
              "      <th>Canada</th>\n",
              "      <td>0.728588</td>\n",
              "      <td>-1.008604</td>\n",
              "    </tr>\n",
              "    <tr>\n",
              "      <th>France</th>\n",
              "      <td>0.241895</td>\n",
              "      <td>0.137900</td>\n",
              "    </tr>\n",
              "    <tr>\n",
              "      <th>UK</th>\n",
              "      <td>0.467671</td>\n",
              "      <td>0.080922</td>\n",
              "    </tr>\n",
              "    <tr>\n",
              "      <th>Germany</th>\n",
              "      <td>0.378729</td>\n",
              "      <td>0.230360</td>\n",
              "    </tr>\n",
              "    <tr>\n",
              "      <th>Australia</th>\n",
              "      <td>-2.003422</td>\n",
              "      <td>1.648581</td>\n",
              "    </tr>\n",
              "  </tbody>\n",
              "</table>\n",
              "</div>"
            ],
            "text/plain": [
              "           Latitude  Longitude\n",
              "Country                       \n",
              "USA        0.186540  -1.089160\n",
              "Canada     0.728588  -1.008604\n",
              "France     0.241895   0.137900\n",
              "UK         0.467671   0.080922\n",
              "Germany    0.378729   0.230360\n",
              "Australia -2.003422   1.648581"
            ]
          },
          "metadata": {
            "tags": []
          },
          "execution_count": 8
        }
      ]
    },
    {
      "cell_type": "code",
      "metadata": {
        "id": "ueWfvm283EWy",
        "colab_type": "code",
        "colab": {}
      },
      "source": [
        ""
      ],
      "execution_count": 0,
      "outputs": []
    },
    {
      "cell_type": "markdown",
      "metadata": {
        "id": "4DldfXVC2mTh",
        "colab_type": "text"
      },
      "source": [
        "Plot the data matrix clustergrid\n",
        "\n",
        "sns.clustermap(x_scaled,cmap='mako')\n",
        "cmap change shade color\n",
        "HEATMAP - \n",
        "Another dendrogram This time uniting the two features (NOT observations)"
      ]
    },
    {
      "cell_type": "code",
      "metadata": {
        "id": "I3QYjW1O2dN_",
        "colab_type": "code",
        "colab": {
          "base_uri": "https://localhost:8080/",
          "height": 746
        },
        "outputId": "6f00cb04-372e-44d7-c7e8-9689a49e5b15"
      },
      "source": [
        "sns.clustermap(x_scaled,cmap='mako')"
      ],
      "execution_count": 10,
      "outputs": [
        {
          "output_type": "execute_result",
          "data": {
            "text/plain": [
              "<seaborn.matrix.ClusterGrid at 0x7f2cfdf3ec18>"
            ]
          },
          "metadata": {
            "tags": []
          },
          "execution_count": 10
        },
        {
          "output_type": "display_data",
          "data": {
            "image/png": "[encoded data removed]",
            "text/plain": [
              "<Figure size 720x720 with 4 Axes>"
            ]
          },
          "metadata": {
            "tags": []
          }
        }
      ]
    },
    {
      "cell_type": "code",
      "metadata": {
        "id": "Abe7hzn72hWP",
        "colab_type": "code",
        "colab": {}
      },
      "source": [
        ""
      ],
      "execution_count": 0,
      "outputs": []
    }
  ]
}