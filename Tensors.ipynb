{
  "nbformat": 4,
  "nbformat_minor": 0,
  "metadata": {
    "colab": {
      "name": "Tensors.ipynb",
      "provenance": [],
      "authorship_tag": "ABX9TyPyYt8hHv5SuuIomHlSTPbu",
      "include_colab_link": true
    },
    "kernelspec": {
      "name": "python3",
      "display_name": "Python 3"
    }
  },
  "cells": [
    {
      "cell_type": "markdown",
      "metadata": {
        "id": "view-in-github",
        "colab_type": "text"
      },
      "source": [
        "<a href=\"https://colab.research.google.com/github/pannhapat/udemy_datascience/blob/master/Tensors.ipynb\" target=\"_parent\"><img src=\"https://colab.research.google.com/assets/colab-badge.svg\" alt=\"Open In Colab\"/></a>"
      ]
    },
    {
      "cell_type": "markdown",
      "metadata": {
        "id": "UelCrEoRWCza",
        "colab_type": "text"
      },
      "source": [
        "Import the relevant libraries\n"
      ]
    },
    {
      "cell_type": "code",
      "metadata": {
        "id": "I3xo7LztV_qz",
        "colab_type": "code",
        "colab": {}
      },
      "source": [
        "import numpy as np"
      ],
      "execution_count": 0,
      "outputs": []
    },
    {
      "cell_type": "markdown",
      "metadata": {
        "id": "bs2a5G1qWJln",
        "colab_type": "text"
      },
      "source": [
        "Create a tensor"
      ]
    },
    {
      "cell_type": "code",
      "metadata": {
        "id": "oZsM95weWIGr",
        "colab_type": "code",
        "colab": {}
      },
      "source": [
        "m1 = np.array([[5,12,6],[-3,0,24]])\n",
        "m1"
      ],
      "execution_count": 0,
      "outputs": []
    },
    {
      "cell_type": "code",
      "metadata": {
        "id": "dlnSB9JUWUj6",
        "colab_type": "code",
        "colab": {}
      },
      "source": [
        "m2 = np.array([[9,8,7],[1,3,-5]])\n",
        "m2"
      ],
      "execution_count": 0,
      "outputs": []
    },
    {
      "cell_type": "code",
      "metadata": {
        "id": "-_21h0M-WbkQ",
        "colab_type": "code",
        "colab": {
          "base_uri": "https://localhost:8080/",
          "height": 51
        },
        "outputId": "653114a3-abed-448d-9ea2-b4ceaa0b62ed"
      },
      "source": [
        "t = m1\n",
        "m2\n"
      ],
      "execution_count": 8,
      "outputs": [
        {
          "output_type": "execute_result",
          "data": {
            "text/plain": [
              "array([[ 9,  8,  7],\n",
              "       [ 1,  3, -5]])"
            ]
          },
          "metadata": {
            "tags": []
          },
          "execution_count": 8
        }
      ]
    },
    {
      "cell_type": "code",
      "metadata": {
        "id": "RJq8vbMUdwMv",
        "colab_type": "code",
        "colab": {
          "base_uri": "https://localhost:8080/",
          "height": 102
        },
        "outputId": "eb9b012b-dbb9-497c-b3c8-2f1dc314be39"
      },
      "source": [
        "t=np.array([m1,m2])\n",
        "t"
      ],
      "execution_count": 10,
      "outputs": [
        {
          "output_type": "execute_result",
          "data": {
            "text/plain": [
              "array([[[ 5, 12,  6],\n",
              "        [-3,  0, 24]],\n",
              "\n",
              "       [[ 9,  8,  7],\n",
              "        [ 1,  3, -5]]])"
            ]
          },
          "metadata": {
            "tags": []
          },
          "execution_count": 10
        }
      ]
    },
    {
      "cell_type": "markdown",
      "metadata": {
        "id": "6kLVKF5Ndwzz",
        "colab_type": "text"
      },
      "source": [
        "Checking its shap"
      ]
    },
    {
      "cell_type": "code",
      "metadata": {
        "id": "Dh_XUe-Ud9Vp",
        "colab_type": "code",
        "colab": {
          "base_uri": "https://localhost:8080/",
          "height": 34
        },
        "outputId": "279d6920-8f04-4e26-e0d4-d3138e634394"
      },
      "source": [
        "t.shape"
      ],
      "execution_count": 13,
      "outputs": [
        {
          "output_type": "execute_result",
          "data": {
            "text/plain": [
              "(2, 2, 3)"
            ]
          },
          "metadata": {
            "tags": []
          },
          "execution_count": 13
        }
      ]
    },
    {
      "cell_type": "markdown",
      "metadata": {
        "id": "RKhfWSslecl8",
        "colab_type": "text"
      },
      "source": [
        "Manually createing a tensor"
      ]
    },
    {
      "cell_type": "code",
      "metadata": {
        "id": "VTI3juWaeD6x",
        "colab_type": "code",
        "colab": {}
      },
      "source": [
        "t_manual = np.array([[[5,12,6],[-30,0,14]],[[9,8,7],[1,3,-5]]])"
      ],
      "execution_count": 0,
      "outputs": []
    },
    {
      "cell_type": "code",
      "metadata": {
        "id": "Ilc9zOJ6eROo",
        "colab_type": "code",
        "colab": {
          "base_uri": "https://localhost:8080/",
          "height": 102
        },
        "outputId": "d21dab83-27e9-4637-e9fe-92c800989bcc"
      },
      "source": [
        "t_manual"
      ],
      "execution_count": 15,
      "outputs": [
        {
          "output_type": "execute_result",
          "data": {
            "text/plain": [
              "array([[[  5,  12,   6],\n",
              "        [-30,   0,  14]],\n",
              "\n",
              "       [[  9,   8,   7],\n",
              "        [  1,   3,  -5]]])"
            ]
          },
          "metadata": {
            "tags": []
          },
          "execution_count": 15
        }
      ]
    },
    {
      "cell_type": "code",
      "metadata": {
        "id": "kTMAylH6ed4G",
        "colab_type": "code",
        "colab": {}
      },
      "source": [
        ""
      ],
      "execution_count": 0,
      "outputs": []
    }
  ]
}