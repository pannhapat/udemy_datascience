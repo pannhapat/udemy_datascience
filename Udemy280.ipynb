{
  "nbformat": 4,
  "nbformat_minor": 0,
  "metadata": {
    "colab": {
      "name": "Udemy280.ipynb",
      "provenance": [],
      "private_outputs": true,
      "collapsed_sections": [],
      "authorship_tag": "ABX9TyOwllCISu9OoT16DjNb7Vbx",
      "include_colab_link": true
    },
    "kernelspec": {
      "name": "python3",
      "display_name": "Python 3"
    }
  },
  "cells": [
    {
      "cell_type": "markdown",
      "metadata": {
        "id": "view-in-github",
        "colab_type": "text"
      },
      "source": [
        "<a href=\"https://colab.research.google.com/github/pannhapat/udemy_datascience/blob/master/Udemy280.ipynb\" target=\"_parent\"><img src=\"https://colab.research.google.com/assets/colab-badge.svg\" alt=\"Open In Colab\"/></a>"
      ]
    },
    {
      "cell_type": "markdown",
      "metadata": {
        "id": "2HyVrdwDYPCf",
        "colab_type": "text"
      },
      "source": [
        "# **Transpose of a matrix**\n",
        "# `transposing vectores `\n",
        "\n",
        "---\n",
        "\n",
        "\n",
        "```\n",
        "# \n",
        "    T\n",
        "| 1|                  T\n",
        "| 2|        = [ 1 2 3]\n",
        "| 3|              T\n",
        "  X              X\n",
        "\n",
        "```\n",
        "                  T\n",
        "  T             T)\n",
        "X.         =  X      = X\n",
        "\n",
        "\n",
        "\n",
        "\n",
        "\n",
        "\n",
        "[ 2 - 2 0 5 ]\n",
        "\n",
        "# `transposing vectores `\n",
        "\n",
        "\n",
        "1.   The values are not changing or transforming;\n",
        "only their position is\n",
        "2.   Transposing the same vector (object) twice yields the initial vactor (object)\n",
        "3. A 3x1 matrix transposed is a 1x3 matrix\n",
        "\n",
        "\n",
        "# `TRANSPOSING MATRICES`\n",
        "   T\n",
        "[ ]      =    [   ]\n",
        "m x n         n x m\n",
        "\n",
        "\n",
        "\n",
        "                     T\n",
        "A = [5  12  6]      A=  [ 5 -3 ] \n",
        "2x3    -3  0  14    3x2   12 0 \n",
        "                           6 14 \n",
        "\n",
        "\n",
        "    \n",
        "\n",
        "\n",
        "\n",
        "\n"
      ]
    },
    {
      "cell_type": "markdown",
      "metadata": {
        "id": "L7H0C3EvcUMO",
        "colab_type": "text"
      },
      "source": [
        "Import the relevant libraries"
      ]
    },
    {
      "cell_type": "code",
      "metadata": {
        "id": "gYFfQveKYKpU",
        "colab_type": "code",
        "colab": {}
      },
      "source": [
        "import numpy as np"
      ],
      "execution_count": 0,
      "outputs": []
    },
    {
      "cell_type": "markdown",
      "metadata": {
        "id": "DT6uTHxLcbN2",
        "colab_type": "text"
      },
      "source": [
        "Transposing matrices\n"
      ]
    },
    {
      "cell_type": "code",
      "metadata": {
        "id": "aVwoIoXTcTA_",
        "colab_type": "code",
        "colab": {}
      },
      "source": [
        "A = np.array([[5,12,6],[-3,0,14]])\n",
        "A"
      ],
      "execution_count": 0,
      "outputs": []
    },
    {
      "cell_type": "code",
      "metadata": {
        "id": "hvgmNoStclLj",
        "colab_type": "code",
        "colab": {}
      },
      "source": [
        "A.T"
      ],
      "execution_count": 0,
      "outputs": []
    },
    {
      "cell_type": "code",
      "metadata": {
        "id": "zc2yEecico5h",
        "colab_type": "code",
        "colab": {}
      },
      "source": [
        "B = np.array([[5,3],[-2,4]])\n",
        "B"
      ],
      "execution_count": 0,
      "outputs": []
    },
    {
      "cell_type": "code",
      "metadata": {
        "id": "xBviYtZydwC1",
        "colab_type": "code",
        "colab": {}
      },
      "source": [
        "B.T"
      ],
      "execution_count": 0,
      "outputs": []
    },
    {
      "cell_type": "code",
      "metadata": {
        "id": "gelUNGODeHVW",
        "colab_type": "code",
        "colab": {}
      },
      "source": [
        "C = np.array([[4,-5],[8,12],[-2,-3],[19,0]])\n",
        "C"
      ],
      "execution_count": 0,
      "outputs": []
    },
    {
      "cell_type": "code",
      "metadata": {
        "id": "8clYHwCYeTs4",
        "colab_type": "code",
        "colab": {}
      },
      "source": [
        "C.T"
      ],
      "execution_count": 0,
      "outputs": []
    },
    {
      "cell_type": "markdown",
      "metadata": {
        "id": "ep3vspFpd9FA",
        "colab_type": "text"
      },
      "source": [
        "TRANSPOSING SCALARS"
      ]
    },
    {
      "cell_type": "code",
      "metadata": {
        "id": "PEFIDDmTeYRD",
        "colab_type": "code",
        "colab": {}
      },
      "source": [
        "s=np.array([5])\n",
        "s"
      ],
      "execution_count": 0,
      "outputs": []
    },
    {
      "cell_type": "code",
      "metadata": {
        "id": "yrodlD7YeEAV",
        "colab_type": "code",
        "colab": {}
      },
      "source": [
        "s.T"
      ],
      "execution_count": 0,
      "outputs": []
    },
    {
      "cell_type": "markdown",
      "metadata": {
        "id": "FwsKrT-peoUc",
        "colab_type": "text"
      },
      "source": [
        "Transposing Vectors"
      ]
    },
    {
      "cell_type": "code",
      "metadata": {
        "id": "yhPRM3zFelqW",
        "colab_type": "code",
        "colab": {}
      },
      "source": [
        "x = np.array([1,2,3])\n",
        "x"
      ],
      "execution_count": 0,
      "outputs": []
    },
    {
      "cell_type": "code",
      "metadata": {
        "id": "mV-i9EXBeshn",
        "colab_type": "code",
        "colab": {}
      },
      "source": [
        "x.T"
      ],
      "execution_count": 0,
      "outputs": []
    },
    {
      "cell_type": "code",
      "metadata": {
        "id": "nsbllKDMesbS",
        "colab_type": "code",
        "colab": {}
      },
      "source": [
        "x.shape"
      ],
      "execution_count": 0,
      "outputs": []
    },
    {
      "cell_type": "code",
      "metadata": {
        "id": "z02HySFaesTU",
        "colab_type": "code",
        "colab": {}
      },
      "source": [
        "x_reshaped = x.reshape(1,3)\n",
        "x_reshaped"
      ],
      "execution_count": 0,
      "outputs": []
    },
    {
      "cell_type": "code",
      "metadata": {
        "id": "ngLhrFy2e4sI",
        "colab_type": "code",
        "colab": {}
      },
      "source": [
        "x_reshaped.T"
      ],
      "execution_count": 0,
      "outputs": []
    },
    {
      "cell_type": "code",
      "metadata": {
        "id": "2aqqLATae9t0",
        "colab_type": "code",
        "colab": {}
      },
      "source": [
        ""
      ],
      "execution_count": 0,
      "outputs": []
    }
  ]
}