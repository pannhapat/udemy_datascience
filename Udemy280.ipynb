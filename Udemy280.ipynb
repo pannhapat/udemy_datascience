{
  "nbformat": 4,
  "nbformat_minor": 0,
  "metadata": {
    "colab": {
      "name": "Udemy280.ipynb",
      "provenance": [],
      "private_outputs": true,
      "collapsed_sections": [],
      "authorship_tag": "ABX9TyPQkGKgGMiewZZ7D7cBA1J9",
      "include_colab_link": true
    },
    "kernelspec": {
      "name": "python3",
      "display_name": "Python 3"
    }
  },
  "cells": [
    {
      "cell_type": "markdown",
      "metadata": {
        "id": "view-in-github",
        "colab_type": "text"
      },
      "source": [
        "<a href=\"https://colab.research.google.com/github/pannhapat/udemy_datascience/blob/master/Udemy280.ipynb\" target=\"_parent\"><img src=\"https://colab.research.google.com/assets/colab-badge.svg\" alt=\"Open In Colab\"/></a>"
      ]
    },
    {
      "cell_type": "markdown",
      "metadata": {
        "id": "2HyVrdwDYPCf",
        "colab_type": "text"
      },
      "source": [
        "# **Transpose of a matrix**\n",
        "# `transposing vectores `\n",
        "\n",
        "---\n",
        "\n",
        "\n",
        "```\n",
        "# \n",
        "    T\n",
        "| 1|                  T\n",
        "| 2|        = [ 1 2 3]\n",
        "| 3|              T\n",
        "  X              X\n",
        "\n",
        "```\n",
        "                  T\n",
        "  T             T)\n",
        "X.         =  X      = X\n",
        "\n",
        "\n",
        "\n",
        "\n",
        "\n",
        "\n",
        "[ 2 - 2 0 5 ]\n",
        "\n",
        "# `transposing vectores `\n",
        "\n",
        "\n",
        "1.   The values are not changing or transforming;\n",
        "only their position is\n",
        "2.   Transposing the same vector (object) twice yields the initial vactor (object)\n",
        "3. A 3x1 matrix transposed is a 1x3 matrix\n",
        "\n",
        "\n",
        "# `TRANSPOSING MATRICES`\n",
        "   T\n",
        "[ ]      =    [   ]\n",
        "m x n         n x m\n",
        "\n",
        "\n",
        "\n",
        "                     T\n",
        "A = [5  12  6]      A=  [ 5 -3 ] \n",
        "2x3    -3  0  14    3x2   12 0 \n",
        "                           6 14 \n",
        "\n",
        "\n",
        "    \n",
        "\n",
        "\n",
        "\n",
        "\n"
      ]
    },
    {
      "cell_type": "markdown",
      "metadata": {
        "id": "L7H0C3EvcUMO",
        "colab_type": "text"
      },
      "source": [
        "Import the relevant libraries"
      ]
    },
    {
      "cell_type": "code",
      "metadata": {
        "id": "gYFfQveKYKpU",
        "colab_type": "code",
        "colab": {}
      },
      "source": [
        "import numpy as np"
      ],
      "execution_count": 0,
      "outputs": []
    },
    {
      "cell_type": "markdown",
      "metadata": {
        "id": "DT6uTHxLcbN2",
        "colab_type": "text"
      },
      "source": [
        "Transposing matrices\n",
        "mxn = n x m\n",
        "\n",
        "`<variable>`.T (Transporting matrices)"
      ]
    },
    {
      "cell_type": "code",
      "metadata": {
        "id": "aVwoIoXTcTA_",
        "colab_type": "code",
        "colab": {}
      },
      "source": [
        "A = np.array([[5,12,6],[-3,0,14]])\n",
        "A"
      ],
      "execution_count": 0,
      "outputs": []
    },
    {
      "cell_type": "code",
      "metadata": {
        "id": "hvgmNoStclLj",
        "colab_type": "code",
        "colab": {}
      },
      "source": [
        "A.T"
      ],
      "execution_count": 0,
      "outputs": []
    },
    {
      "cell_type": "code",
      "metadata": {
        "id": "zc2yEecico5h",
        "colab_type": "code",
        "colab": {}
      },
      "source": [
        "B = np.array([[5,3],[-2,4]])\n",
        "B"
      ],
      "execution_count": 0,
      "outputs": []
    },
    {
      "cell_type": "code",
      "metadata": {
        "id": "xBviYtZydwC1",
        "colab_type": "code",
        "colab": {}
      },
      "source": [
        "B.T"
      ],
      "execution_count": 0,
      "outputs": []
    },
    {
      "cell_type": "code",
      "metadata": {
        "id": "gelUNGODeHVW",
        "colab_type": "code",
        "colab": {}
      },
      "source": [
        "C = np.array([[4,-5],[8,12],[-2,-3],[19,0]])\n",
        "C"
      ],
      "execution_count": 0,
      "outputs": []
    },
    {
      "cell_type": "code",
      "metadata": {
        "id": "8clYHwCYeTs4",
        "colab_type": "code",
        "colab": {}
      },
      "source": [
        "C.T"
      ],
      "execution_count": 0,
      "outputs": []
    },
    {
      "cell_type": "markdown",
      "metadata": {
        "id": "ep3vspFpd9FA",
        "colab_type": "text"
      },
      "source": [
        "TRANSPOSING SCALARS"
      ]
    },
    {
      "cell_type": "code",
      "metadata": {
        "id": "PEFIDDmTeYRD",
        "colab_type": "code",
        "colab": {}
      },
      "source": [
        "s=np.array([5])\n",
        "s"
      ],
      "execution_count": 0,
      "outputs": []
    },
    {
      "cell_type": "code",
      "metadata": {
        "id": "yrodlD7YeEAV",
        "colab_type": "code",
        "colab": {}
      },
      "source": [
        "s.T"
      ],
      "execution_count": 0,
      "outputs": []
    },
    {
      "cell_type": "markdown",
      "metadata": {
        "id": "FwsKrT-peoUc",
        "colab_type": "text"
      },
      "source": [
        "Transposing Vectors\n",
        "\n",
        "The values are not changing or transforming;\n",
        "only their position is\n",
        "\n",
        "Transposing the same vector (object) twice \n",
        "yields the initial vector (object)\n",
        "\n",
        "A 3x1 matrix transposed is a 1x3 matrix\n",
        "\n"
      ]
    },
    {
      "cell_type": "code",
      "metadata": {
        "id": "yhPRM3zFelqW",
        "colab_type": "code",
        "colab": {}
      },
      "source": [
        "x = np.array([1,2,3])\n",
        "x"
      ],
      "execution_count": 0,
      "outputs": []
    },
    {
      "cell_type": "code",
      "metadata": {
        "id": "mV-i9EXBeshn",
        "colab_type": "code",
        "colab": {}
      },
      "source": [
        "x.T"
      ],
      "execution_count": 0,
      "outputs": []
    },
    {
      "cell_type": "code",
      "metadata": {
        "id": "nsbllKDMesbS",
        "colab_type": "code",
        "colab": {}
      },
      "source": [
        "x.shape"
      ],
      "execution_count": 0,
      "outputs": []
    },
    {
      "cell_type": "code",
      "metadata": {
        "id": "z02HySFaesTU",
        "colab_type": "code",
        "colab": {}
      },
      "source": [
        "x_reshaped = x.reshape(1,3)\n",
        "x_reshaped"
      ],
      "execution_count": 0,
      "outputs": []
    },
    {
      "cell_type": "code",
      "metadata": {
        "id": "ngLhrFy2e4sI",
        "colab_type": "code",
        "colab": {}
      },
      "source": [
        "x_reshaped.T"
      ],
      "execution_count": 0,
      "outputs": []
    },
    {
      "cell_type": "markdown",
      "metadata": {
        "id": "ayTKZyP_C4Ge",
        "colab_type": "text"
      },
      "source": [
        "MULTIPLICATION\n",
        "SCALAR MULTIPLICATION\n",
        "\n",
        "> Indented block \n",
        "[ 6 ]. [5 ] = [ 30 ]\n",
        "\n",
        "---\n",
        "\n",
        "> Indented block\n",
        "[10 ]. [ -2 ] = [-20 ] \n",
        "\n",
        "\n",
        "VECTOR MULTIIPLICATION\n",
        "\n",
        "```\n",
        " [2 ] X [ 1 ]   \n",
        " 8       -7\n",
        "  -4     -3\n",
        "\n",
        "```\n",
        "\n",
        "\n",
        "\n",
        "### DOT PRODUCT         | |        TENSOR PRODUCT\n",
        "outer product                   inner product\n",
        "\n",
        "\n",
        "\n"
      ]
    },
    {
      "cell_type": "code",
      "metadata": {
        "id": "2aqqLATae9t0",
        "colab_type": "code",
        "colab": {}
      },
      "source": [
        ""
      ],
      "execution_count": 0,
      "outputs": []
    },
    {
      "cell_type": "markdown",
      "metadata": {
        "id": "AH6Br5Q9OZbt",
        "colab_type": "text"
      },
      "source": [
        "\n",
        "### DOT PRODUCT        \n",
        "        inner product\n",
        "scalar product (mulitplication . or X)\n",
        "\n",
        "\n",
        "```\n",
        "\n",
        "2 |       | 1\n",
        "8 | .     | -7   = [-66]\n",
        "-4|       | 3\n",
        "\n",
        "vector   vector     scalar\n",
        "\n",
        "the sum of the product of the corresponding element's\n",
        "\n",
        "```\n",
        "\n",
        "\n"
      ]
    },
    {
      "cell_type": "markdown",
      "metadata": {
        "id": "EYXYPQpfTMgU",
        "colab_type": "text"
      },
      "source": [
        "DOT PRODUCT"
      ]
    },
    {
      "cell_type": "code",
      "metadata": {
        "id": "rvqH83osS_Co",
        "colab_type": "code",
        "colab": {}
      },
      "source": [
        "x = np.array([2,8,-4])\n",
        "y = np.array([1,-7,3])\n",
        "np.dot(x,y)"
      ],
      "execution_count": 0,
      "outputs": []
    },
    {
      "cell_type": "markdown",
      "metadata": {
        "id": "qUxTQXkRTnKn",
        "colab_type": "text"
      },
      "source": [
        "0x(20) + (2x3) + (5x4)+ 8x(-1)"
      ]
    },
    {
      "cell_type": "code",
      "metadata": {
        "id": "u0-qFaNATUGH",
        "colab_type": "code",
        "colab": {}
      },
      "source": [
        "u=np.array([0,2,5,8])\n",
        "v=np.array([20,3,4,-1])\n",
        "np.dot(u,v)"
      ],
      "execution_count": 0,
      "outputs": []
    },
    {
      "cell_type": "markdown",
      "metadata": {
        "id": "tcyxgcfyTlvu",
        "colab_type": "text"
      },
      "source": [
        "scalar * scalar"
      ]
    },
    {
      "cell_type": "code",
      "metadata": {
        "id": "iInKAT0pTj2W",
        "colab_type": "code",
        "colab": {}
      },
      "source": [
        "np.dot(5,6)"
      ],
      "execution_count": 0,
      "outputs": []
    },
    {
      "cell_type": "code",
      "metadata": {
        "id": "1u8GY-rvT9bi",
        "colab_type": "code",
        "colab": {}
      },
      "source": [
        "np.dot(10,-2)"
      ],
      "execution_count": 0,
      "outputs": []
    },
    {
      "cell_type": "markdown",
      "metadata": {
        "id": "gqDQ11HiXzDc",
        "colab_type": "text"
      },
      "source": [
        "Scalar * vector\n",
        "\n",
        "get a vector with the same lenght!\n",
        "\n",
        "\n",
        "The initial vector had been SCALED 5 times (thus the name)\n",
        "\n"
      ]
    },
    {
      "cell_type": "code",
      "metadata": {
        "id": "Z5jmnA7EUABC",
        "colab_type": "code",
        "colab": {}
      },
      "source": [
        "x "
      ],
      "execution_count": 0,
      "outputs": []
    },
    {
      "cell_type": "code",
      "metadata": {
        "id": "ovGTQ5DZX4LJ",
        "colab_type": "code",
        "colab": {}
      },
      "source": [
        "5*x"
      ],
      "execution_count": 0,
      "outputs": []
    },
    {
      "cell_type": "code",
      "metadata": {
        "id": "Qh-6HaoKX6CC",
        "colab_type": "code",
        "colab": {}
      },
      "source": [
        ""
      ],
      "execution_count": 0,
      "outputs": []
    }
  ]
}